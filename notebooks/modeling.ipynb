{
 "cells": [
  {
   "cell_type": "markdown",
   "id": "47c19c7a",
   "metadata": {},
   "source": [
    "# Modeling"
   ]
  },
  {
   "cell_type": "markdown",
   "id": "4591bd61",
   "metadata": {},
   "source": [
    "## Initialization"
   ]
  },
  {
   "cell_type": "markdown",
   "id": "571222c9",
   "metadata": {},
   "source": [
    "### Modules"
   ]
  },
  {
   "cell_type": "code",
   "execution_count": 1,
   "id": "a9275327",
   "metadata": {},
   "outputs": [
    {
     "name": "stderr",
     "output_type": "stream",
     "text": [
      "c:\\Users\\Мариан\\Desktop\\Jupyter Notes\\Projects\\Trainee_iFortex\\Git\\future_sales_predictions backup\\.venv\\Lib\\site-packages\\tqdm\\auto.py:21: TqdmWarning: IProgress not found. Please update jupyter and ipywidgets. See https://ipywidgets.readthedocs.io/en/stable/user_install.html\n",
      "  from .autonotebook import tqdm as notebook_tqdm\n"
     ]
    }
   ],
   "source": [
    "# Main libs\n",
    "import numpy as np\n",
    "import pandas as pd\n",
    "import optuna\n",
    "\n",
    "# Modeling and evaluation\n",
    "import xgboost as xgb\n",
    "import sklearn\n",
    "from sklearn.model_selection import train_test_split\n",
    "from sklearn.metrics import mean_squared_error\n",
    "from sklearn.metrics import root_mean_squared_error\n",
    "from sklearn.metrics import mean_absolute_percentage_error\n",
    "from sklearn.metrics import mean_absolute_error\n",
    "from sklearn.preprocessing import StandardScaler\n",
    "from sklearn.linear_model import LinearRegression\n",
    "from sklearn.linear_model import TweedieRegressor\n",
    "import shap\n",
    "from catboost import CatBoostRegressor, Pool\n",
    "import mlflow\n",
    "import mlflow.xgboost as mlf\n",
    "from mlflow.models.signature import infer_signature\n",
    "\n",
    "# System environment optimisation tools \n",
    "import itertools\n",
    "import time\n",
    "import gc\n",
    "\n",
    "# Additional environment optimisation tools\n",
    "from tqdm import notebook\n",
    "import tqdm\n",
    "from time import sleep\n",
    "import time\n",
    "\n",
    "# Visualisation\n",
    "import seaborn as sns\n",
    "import plotly\n",
    "import plotly.express as px\n",
    "import matplotlib.pyplot as plt\n",
    "\n",
    "\n",
    "from pathlib import Path\n",
    "import sys\n",
    "ROOT = Path().resolve().parent\n",
    "sys.path.append(str(ROOT))\n",
    "\n",
    "from src.fsp_ms.config import Config"
   ]
  },
  {
   "cell_type": "code",
   "execution_count": 2,
   "id": "fba1260a",
   "metadata": {},
   "outputs": [],
   "source": [
    "config = Config() # TO DELETE LATER, USED FOR FAST EXPERIMENTING\n",
    "full_df = pd.read_parquet(config.get('features'), engine='pyarrow')"
   ]
  },
  {
   "cell_type": "markdown",
   "id": "45b3fb9c",
   "metadata": {},
   "source": [
    "### MLFlow init"
   ]
  },
  {
   "cell_type": "code",
   "execution_count": 3,
   "id": "6997b23c",
   "metadata": {},
   "outputs": [],
   "source": [
    "mlflow.set_tracking_uri(uri=\"http://127.0.0.1:8080\")"
   ]
  },
  {
   "cell_type": "markdown",
   "id": "c665e3e7",
   "metadata": {},
   "source": [
    "### Data and config init"
   ]
  },
  {
   "cell_type": "code",
   "execution_count": 4,
   "id": "589e8590",
   "metadata": {},
   "outputs": [],
   "source": [
    "config = Config()"
   ]
  },
  {
   "cell_type": "code",
   "execution_count": 5,
   "id": "c383a439",
   "metadata": {},
   "outputs": [],
   "source": [
    "full_df = pd.read_parquet(config.get('features'), engine='pyarrow')"
   ]
  },
  {
   "cell_type": "code",
   "execution_count": 6,
   "id": "59542b81",
   "metadata": {},
   "outputs": [],
   "source": [
    "train = full_df[full_df['date_block_num'] < 32]\n",
    "train_x = train.drop('target', axis=1)\n",
    "train_y = train['target']\n",
    "\n",
    "validation = full_df[full_df['date_block_num'] == 32]\n",
    "validation_x = validation.drop('target', axis=1)\n",
    "validation_y = validation['target']\n",
    "\n",
    "test = full_df[full_df['date_block_num'] == 33]\n",
    "test_x = test.drop('target', axis=1)\n",
    "test_y = test['target']\n",
    "\n",
    "# predict_for = full_df[full_df['date_block_num'] == 34].drop('target', axis = 1)"
   ]
  },
  {
   "cell_type": "markdown",
   "id": "eb5f3095",
   "metadata": {},
   "source": [
    "### Probled Description"
   ]
  },
  {
   "cell_type": "markdown",
   "id": "1bc0e29d",
   "metadata": {},
   "source": [
    "We should predict target for 34th month which is number of sold items in exact shop during \"this\" month. We have dataframe with all features and test+train conctated - full_df"
   ]
  },
  {
   "cell_type": "code",
   "execution_count": 7,
   "id": "acc4c50b",
   "metadata": {},
   "outputs": [
    {
     "data": {
      "text/html": [
       "<div>\n",
       "<style scoped>\n",
       "    .dataframe tbody tr th:only-of-type {\n",
       "        vertical-align: middle;\n",
       "    }\n",
       "\n",
       "    .dataframe tbody tr th {\n",
       "        vertical-align: top;\n",
       "    }\n",
       "\n",
       "    .dataframe thead th {\n",
       "        text-align: right;\n",
       "    }\n",
       "</style>\n",
       "<table border=\"1\" class=\"dataframe\">\n",
       "  <thead>\n",
       "    <tr style=\"text-align: right;\">\n",
       "      <th></th>\n",
       "      <th>ID</th>\n",
       "      <th>item_cnt_month</th>\n",
       "    </tr>\n",
       "  </thead>\n",
       "  <tbody>\n",
       "    <tr>\n",
       "      <th>0</th>\n",
       "      <td>0</td>\n",
       "      <td>0.5</td>\n",
       "    </tr>\n",
       "    <tr>\n",
       "      <th>1</th>\n",
       "      <td>1</td>\n",
       "      <td>0.5</td>\n",
       "    </tr>\n",
       "    <tr>\n",
       "      <th>2</th>\n",
       "      <td>2</td>\n",
       "      <td>0.5</td>\n",
       "    </tr>\n",
       "    <tr>\n",
       "      <th>3</th>\n",
       "      <td>3</td>\n",
       "      <td>0.5</td>\n",
       "    </tr>\n",
       "    <tr>\n",
       "      <th>4</th>\n",
       "      <td>4</td>\n",
       "      <td>0.5</td>\n",
       "    </tr>\n",
       "    <tr>\n",
       "      <th>...</th>\n",
       "      <td>...</td>\n",
       "      <td>...</td>\n",
       "    </tr>\n",
       "    <tr>\n",
       "      <th>214195</th>\n",
       "      <td>214195</td>\n",
       "      <td>0.5</td>\n",
       "    </tr>\n",
       "    <tr>\n",
       "      <th>214196</th>\n",
       "      <td>214196</td>\n",
       "      <td>0.5</td>\n",
       "    </tr>\n",
       "    <tr>\n",
       "      <th>214197</th>\n",
       "      <td>214197</td>\n",
       "      <td>0.5</td>\n",
       "    </tr>\n",
       "    <tr>\n",
       "      <th>214198</th>\n",
       "      <td>214198</td>\n",
       "      <td>0.5</td>\n",
       "    </tr>\n",
       "    <tr>\n",
       "      <th>214199</th>\n",
       "      <td>214199</td>\n",
       "      <td>0.5</td>\n",
       "    </tr>\n",
       "  </tbody>\n",
       "</table>\n",
       "<p>214200 rows × 2 columns</p>\n",
       "</div>"
      ],
      "text/plain": [
       "            ID  item_cnt_month\n",
       "0            0             0.5\n",
       "1            1             0.5\n",
       "2            2             0.5\n",
       "3            3             0.5\n",
       "4            4             0.5\n",
       "...        ...             ...\n",
       "214195  214195             0.5\n",
       "214196  214196             0.5\n",
       "214197  214197             0.5\n",
       "214198  214198             0.5\n",
       "214199  214199             0.5\n",
       "\n",
       "[214200 rows x 2 columns]"
      ]
     },
     "execution_count": 7,
     "metadata": {},
     "output_type": "execute_result"
    }
   ],
   "source": [
    "some = pd.read_csv(config.get('submission'))\n",
    "some"
   ]
  },
  {
   "cell_type": "markdown",
   "id": "b9427711",
   "metadata": {},
   "source": [
    "### Checking DF structure and Data consistency"
   ]
  },
  {
   "cell_type": "code",
   "execution_count": null,
   "id": "52a40795",
   "metadata": {},
   "outputs": [],
   "source": [
    "full_df.isna().sum().sum()"
   ]
  },
  {
   "cell_type": "code",
   "execution_count": null,
   "id": "84d55654",
   "metadata": {},
   "outputs": [],
   "source": [
    "full_df.tail(5)"
   ]
  },
  {
   "cell_type": "markdown",
   "id": "98820f6a",
   "metadata": {},
   "source": [
    "## Base predict"
   ]
  },
  {
   "cell_type": "markdown",
   "id": "2f2c6605",
   "metadata": {},
   "source": [
    "### Predicting for \"test\" set "
   ]
  },
  {
   "cell_type": "markdown",
   "id": "5a3ef21f",
   "metadata": {},
   "source": [
    "Chossing target value from previous month as a prediction for 33rd month"
   ]
  },
  {
   "cell_type": "markdown",
   "id": "e50519cd",
   "metadata": {},
   "source": [
    "Here we use validation set for the predict, cause of baseline assumption about importaness of 'target_lag_1' feature."
   ]
  },
  {
   "cell_type": "code",
   "execution_count": 4,
   "id": "588d9df8",
   "metadata": {},
   "outputs": [
    {
     "data": {
      "text/html": [
       "<div>\n",
       "<style scoped>\n",
       "    .dataframe tbody tr th:only-of-type {\n",
       "        vertical-align: middle;\n",
       "    }\n",
       "\n",
       "    .dataframe tbody tr th {\n",
       "        vertical-align: top;\n",
       "    }\n",
       "\n",
       "    .dataframe thead th {\n",
       "        text-align: right;\n",
       "    }\n",
       "</style>\n",
       "<table border=\"1\" class=\"dataframe\">\n",
       "  <thead>\n",
       "    <tr style=\"text-align: right;\">\n",
       "      <th></th>\n",
       "      <th>shop_id</th>\n",
       "      <th>item_id</th>\n",
       "      <th>target</th>\n",
       "    </tr>\n",
       "  </thead>\n",
       "  <tbody>\n",
       "    <tr>\n",
       "      <th>10574777</th>\n",
       "      <td>2</td>\n",
       "      <td>2791</td>\n",
       "      <td>6.0</td>\n",
       "    </tr>\n",
       "    <tr>\n",
       "      <th>10574778</th>\n",
       "      <td>2</td>\n",
       "      <td>3351</td>\n",
       "      <td>20.0</td>\n",
       "    </tr>\n",
       "    <tr>\n",
       "      <th>10574779</th>\n",
       "      <td>2</td>\n",
       "      <td>3353</td>\n",
       "      <td>6.0</td>\n",
       "    </tr>\n",
       "    <tr>\n",
       "      <th>10574780</th>\n",
       "      <td>2</td>\n",
       "      <td>3708</td>\n",
       "      <td>2.0</td>\n",
       "    </tr>\n",
       "    <tr>\n",
       "      <th>10574781</th>\n",
       "      <td>2</td>\n",
       "      <td>4388</td>\n",
       "      <td>0.0</td>\n",
       "    </tr>\n",
       "    <tr>\n",
       "      <th>...</th>\n",
       "      <td>...</td>\n",
       "      <td>...</td>\n",
       "      <td>...</td>\n",
       "    </tr>\n",
       "    <tr>\n",
       "      <th>10812856</th>\n",
       "      <td>36</td>\n",
       "      <td>14199</td>\n",
       "      <td>0.0</td>\n",
       "    </tr>\n",
       "    <tr>\n",
       "      <th>10812857</th>\n",
       "      <td>36</td>\n",
       "      <td>6464</td>\n",
       "      <td>0.0</td>\n",
       "    </tr>\n",
       "    <tr>\n",
       "      <th>10812858</th>\n",
       "      <td>36</td>\n",
       "      <td>3327</td>\n",
       "      <td>0.0</td>\n",
       "    </tr>\n",
       "    <tr>\n",
       "      <th>10812859</th>\n",
       "      <td>36</td>\n",
       "      <td>19370</td>\n",
       "      <td>0.0</td>\n",
       "    </tr>\n",
       "    <tr>\n",
       "      <th>10812860</th>\n",
       "      <td>36</td>\n",
       "      <td>7805</td>\n",
       "      <td>0.0</td>\n",
       "    </tr>\n",
       "  </tbody>\n",
       "</table>\n",
       "<p>238084 rows × 3 columns</p>\n",
       "</div>"
      ],
      "text/plain": [
       "          shop_id  item_id  target\n",
       "10574777        2     2791     6.0\n",
       "10574778        2     3351    20.0\n",
       "10574779        2     3353     6.0\n",
       "10574780        2     3708     2.0\n",
       "10574781        2     4388     0.0\n",
       "...           ...      ...     ...\n",
       "10812856       36    14199     0.0\n",
       "10812857       36     6464     0.0\n",
       "10812858       36     3327     0.0\n",
       "10812859       36    19370     0.0\n",
       "10812860       36     7805     0.0\n",
       "\n",
       "[238084 rows x 3 columns]"
      ]
     },
     "execution_count": 4,
     "metadata": {},
     "output_type": "execute_result"
    }
   ],
   "source": [
    "validation_base = full_df[full_df['date_block_num'] == 33][['date_block_num', 'shop_id', 'item_id', 'target_lag_1']]\n",
    "validation_base = validation_base.rename({'target_lag_1':'target'}, axis=1).drop('date_block_num', axis= 1)\n",
    "validation_base"
   ]
  },
  {
   "cell_type": "markdown",
   "id": "8e31e9c6",
   "metadata": {},
   "source": [
    "Evaluating error if we take target_lag_1 as our prediction"
   ]
  },
  {
   "cell_type": "code",
   "execution_count": 7,
   "id": "16fb45f9",
   "metadata": {},
   "outputs": [
    {
     "data": {
      "text/plain": [
       "1.1730363368988037"
      ]
     },
     "execution_count": 7,
     "metadata": {},
     "output_type": "execute_result"
    }
   ],
   "source": [
    "root_mean_squared_error(y_true=full_df[full_df['date_block_num'] == 33]['target'], y_pred = validation_base['target'])"
   ]
  },
  {
   "cell_type": "markdown",
   "id": "a882c0c6",
   "metadata": {},
   "source": [
    "RMSE : 1.17303\n"
   ]
  },
  {
   "cell_type": "code",
   "execution_count": 15,
   "id": "32184de5",
   "metadata": {},
   "outputs": [
    {
     "data": {
      "text/plain": [
       "10574777    1.0\n",
       "10574778    4.0\n",
       "10574779    3.0\n",
       "10574780    2.0\n",
       "10574781    1.0\n",
       "           ... \n",
       "10812856    0.0\n",
       "10812857    0.0\n",
       "10812858    0.0\n",
       "10812859    0.0\n",
       "10812860    0.0\n",
       "Name: target, Length: 238084, dtype: float32"
      ]
     },
     "execution_count": 15,
     "metadata": {},
     "output_type": "execute_result"
    }
   ],
   "source": [
    "y_true = full_df[full_df['date_block_num'] == 33]['target']\n",
    "y_true"
   ]
  },
  {
   "cell_type": "code",
   "execution_count": 19,
   "id": "0b1180b4",
   "metadata": {},
   "outputs": [
    {
     "data": {
      "text/plain": [
       "10574777     6.0\n",
       "10574778    20.0\n",
       "10574779     6.0\n",
       "10574780     2.0\n",
       "10574781     0.0\n",
       "            ... \n",
       "10812856     0.0\n",
       "10812857     0.0\n",
       "10812858     0.0\n",
       "10812859     0.0\n",
       "10812860     0.0\n",
       "Name: target, Length: 238084, dtype: float32"
      ]
     },
     "execution_count": 19,
     "metadata": {},
     "output_type": "execute_result"
    }
   ],
   "source": [
    "y_pred = validation_base['target']\n",
    "y_pred"
   ]
  },
  {
   "cell_type": "code",
   "execution_count": 22,
   "id": "596a25ca",
   "metadata": {},
   "outputs": [
    {
     "data": {
      "text/plain": [
       "0.3035021126270294"
      ]
     },
     "execution_count": 22,
     "metadata": {},
     "output_type": "execute_result"
    }
   ],
   "source": [
    "mean_absolute_error(y_true=y_true, y_pred = y_pred)"
   ]
  },
  {
   "cell_type": "markdown",
   "id": "f504a267",
   "metadata": {},
   "source": [
    "MAE = 0.3035"
   ]
  },
  {
   "cell_type": "code",
   "execution_count": 23,
   "id": "256ead8f",
   "metadata": {},
   "outputs": [],
   "source": [
    "def smape(y_true, y_pred):\n",
    "    y_true = np.array(y_true)\n",
    "    y_pred = np.array(y_pred)\n",
    "    denominator = (np.abs(y_true) + np.abs(y_pred)+0.000001) / 2\n",
    "    diff = np.abs(y_true - y_pred)\n",
    "    smape_values = np.where(denominator == 0, 0, diff / denominator)\n",
    "    return np.mean(smape_values) * 100"
   ]
  },
  {
   "cell_type": "code",
   "execution_count": 28,
   "id": "91907cc5",
   "metadata": {},
   "outputs": [
    {
     "data": {
      "text/plain": [
       "np.float32(32.04871)"
      ]
     },
     "execution_count": 28,
     "metadata": {},
     "output_type": "execute_result"
    }
   ],
   "source": [
    "smape(y_true=y_true, y_pred=y_pred)"
   ]
  },
  {
   "cell_type": "markdown",
   "id": "a9706170",
   "metadata": {},
   "source": [
    "SMAPE : 32%"
   ]
  },
  {
   "cell_type": "markdown",
   "id": "20425255",
   "metadata": {},
   "source": [
    "### Linear regression"
   ]
  },
  {
   "cell_type": "code",
   "execution_count": null,
   "id": "d63815db",
   "metadata": {},
   "outputs": [],
   "source": [
    "linreg = LinearRegression() # Validation haven't used, it's reserved\n",
    "linreg.fit(X= train_x, y = train_y )\n",
    "preds_linreg = linreg.predict(test_x)\n",
    "root_mean_squared_error(y_true=test_y, y_pred = preds_linreg)"
   ]
  },
  {
   "cell_type": "markdown",
   "id": "d73f90ec",
   "metadata": {},
   "source": [
    "### Predicting for inference set"
   ]
  },
  {
   "cell_type": "markdown",
   "id": "f55b6676",
   "metadata": {},
   "source": [
    "Chossing target value from previous month as a prediction for test set"
   ]
  },
  {
   "cell_type": "code",
   "execution_count": 30,
   "id": "c5faed0a",
   "metadata": {},
   "outputs": [],
   "source": [
    "test_base = full_df[full_df['date_block_num'] == 34][['date_block_num', 'shop_id', 'item_id', 'target_lag_1']]\n",
    "test_base = test_base.rename({'target_lag_1':'item_cnt_month'}, axis=1).drop('date_block_num', axis= 1).reset_index(drop= True)\n",
    "test_base['ID'] = test_base.index\n",
    "test_base = test_base[['ID','shop_id','item_id', 'item_cnt_month']]\n",
    "test_base['item_cnt_month'] = test_base['item_cnt_month'].clip(0,20)"
   ]
  },
  {
   "cell_type": "code",
   "execution_count": 31,
   "id": "1b66f225",
   "metadata": {},
   "outputs": [],
   "source": [
    "test_base.drop(['shop_id','item_id'], axis = 1).to_csv(config.get('predict_base'),index=False)"
   ]
  },
  {
   "cell_type": "markdown",
   "id": "742a9983",
   "metadata": {},
   "source": [
    "Result:"
   ]
  },
  {
   "cell_type": "markdown",
   "id": "ec9bd212",
   "metadata": {},
   "source": [
    "![kaggle_base_predict_taget_lag_1](../img/base_predicted_target_lag_1_clipping.jpg)"
   ]
  },
  {
   "cell_type": "markdown",
   "id": "5e2f5d7a",
   "metadata": {},
   "source": [
    "Private score: 1.15555 , Public Score: 1.15714"
   ]
  },
  {
   "cell_type": "markdown",
   "id": "dad6de36",
   "metadata": {},
   "source": [
    "The same, but without clipping:"
   ]
  },
  {
   "cell_type": "markdown",
   "id": "85897c5d",
   "metadata": {},
   "source": [
    "![kaggle_base_predict_taget_lag_1](../img/base_predicted_target_lag_1.jpg)"
   ]
  },
  {
   "cell_type": "markdown",
   "id": "05f74cdd",
   "metadata": {},
   "source": [
    "Private score: 1.40654 , Public Score: 1.52832"
   ]
  },
  {
   "cell_type": "markdown",
   "id": "4845fa4f",
   "metadata": {},
   "source": [
    "We basically use this approach for evaluation because, in time-series problems, the model is more likely to treat the target value from the previous month as an important feature. It seems to be the most basic and conventional approach."
   ]
  },
  {
   "cell_type": "markdown",
   "id": "59866113",
   "metadata": {},
   "source": [
    "# XGBOOST"
   ]
  },
  {
   "cell_type": "markdown",
   "id": "3e588e6b",
   "metadata": {},
   "source": [
    "## 128features_XGBOOST_EARLY_STOPPING_OPTIMIZATION. Hold out optimisation on 33rd month for fast feature importance (XGBOOST)"
   ]
  },
  {
   "cell_type": "markdown",
   "id": "0a1aabe6",
   "metadata": {},
   "source": [
    "We would like to select features based on feature importance of a model which we already build, that will reduce time for hyperopt optimisation based on expanding window. Down below we use optimisation and then permutatuin feature importance."
   ]
  },
  {
   "cell_type": "code",
   "execution_count": null,
   "id": "cfc9b987",
   "metadata": {},
   "outputs": [],
   "source": [
    "def objective(trial):\n",
    "    param = {\n",
    "        \"verbosity\": 0,\n",
    "        \"objective\": \"reg:squarederror\",\n",
    "        \"eval_metric\": \"rmse\",\n",
    "        \"n_estimators\": trial.suggest_int(\"n_estimators\", 50, 300),\n",
    "        \"max_depth\": trial.suggest_int(\"max_depth\", 3, 12),\n",
    "        \"learning_rate\": trial.suggest_float(\"learning_rate\", 1e-3, 0.3, log=True),\n",
    "        \"subsample\": trial.suggest_float(\"subsample\", 0.5, 1.0),\n",
    "        \"colsample_bytree\": trial.suggest_float(\"colsample_bytree\", 0.5, 1.0),\n",
    "        \"gamma\": trial.suggest_float(\"gamma\", 0, 5),\n",
    "        \"lambda\": trial.suggest_float(\"lambda\", 1e-3, 10.0, log=True),\n",
    "        \"alpha\": trial.suggest_float(\"alpha\", 1e-3, 10.0, log=True),\n",
    "        \"early_stopping_rounds\": 20,\n",
    "        'tree_method': 'hist',\n",
    "        \"device\" : \"cuda\"\n",
    "        \n",
    "    }\n",
    "\n",
    "    model = xgb.XGBRegressor(**param)\n",
    "    model.fit(X = train_x, y = train_y, eval_set=[(validation_x, validation_y)], verbose=False)\n",
    "\n",
    "    preds = model.predict(test_x)\n",
    "    rmse = root_mean_squared_error(y_true=test_y, y_pred=preds)\n",
    "    return rmse\n",
    "\n",
    "study = optuna.create_study(direction=\"minimize\")\n",
    "study.optimize(objective, n_trials=50)\n",
    "\n",
    "print(\"Best params:\", study.best_params)\n",
    "print(\"Best RMSE:\", study.best_value)\n",
    "#, early_stopping_rounds=20,"
   ]
  },
  {
   "cell_type": "code",
   "execution_count": null,
   "id": "b034972e",
   "metadata": {},
   "outputs": [],
   "source": [
    "# import mlflow\n",
    "# import mlflow.xgboost as mlf\n",
    "# # from mlflow.models.signature import infer_signature\n",
    "\n",
    "# # mlflow.set_tracking_uri(uri=\"http://127.0.0.1:8080\")\n",
    "# mlflow.set_experiment(\"Hyperopt\")\n",
    "\n",
    "# # with mlflow.start_run(run_name='holdout_train_val_test'):\n",
    "# #     mlflow.log_params(study.best_params)\n",
    "# #     mlflow.log_metric('rmse', study.best_value)\n",
    "# #     mlflow.set_tag(\"comment\", \"This was a baseline run without model logging.\")\n",
    "# # # Commented to avoid creating new expirements"
   ]
  },
  {
   "cell_type": "code",
   "execution_count": null,
   "id": "f4b35169",
   "metadata": {},
   "outputs": [],
   "source": [
    "print(mlflow.get_tracking_uri())"
   ]
  },
  {
   "cell_type": "code",
   "execution_count": null,
   "id": "5d4ccd9f",
   "metadata": {},
   "outputs": [],
   "source": [
    "# holdout_train_val_test run : \n",
    "# Best params: {'n_estimators': 243, 'max_depth': 8, 'learning_rate': 0.05544865797304804, 'subsample': 0.9990261565478662, 'colsample_bytree': 0.8804292337411381, 'gamma': 1.004572997124911, 'lambda': 0.7534895371309323, 'alpha': 5.226914767230857}\n",
    "# Best RMSE: 0.9213665723800659"
   ]
  },
  {
   "cell_type": "markdown",
   "id": "2a1cfdbe",
   "metadata": {},
   "source": [
    "## Naive Feature importance"
   ]
  },
  {
   "cell_type": "markdown",
   "id": "135cb886",
   "metadata": {},
   "source": [
    "Model based trained on all data except indeference"
   ]
  },
  {
   "cell_type": "code",
   "execution_count": null,
   "id": "4697543a",
   "metadata": {},
   "outputs": [],
   "source": [
    "%%time\n",
    "\n",
    "params = {'n_estimators': 243, 'max_depth': 8, 'learning_rate': 0.05544865797304804,\\\n",
    "     'subsample': 0.9990261565478662, 'colsample_bytree': 0.8804292337411381,\\\n",
    "         'gamma': 1.004572997124911, 'lambda': 0.7534895371309323, 'alpha': 5.226914767230857}\n",
    "\n",
    "\n",
    "\n",
    "train = full_df[full_df['date_block_num'] < 34]\n",
    "train_x = train.drop('target', axis=1)\n",
    "train_y = train['target']\n",
    "\n",
    "test = full_df[full_df['date_block_num'] == 34]\n",
    "test_x = test.drop('target', axis=1)\n",
    "\n",
    "\n",
    "model = xgb.XGBRegressor(**params)\n",
    "model.fit(train_x, train_y)\n",
    "\n"
   ]
  },
  {
   "cell_type": "markdown",
   "id": "f590d081",
   "metadata": {},
   "source": [
    "Taking out inner data from state of the model"
   ]
  },
  {
   "cell_type": "code",
   "execution_count": 14,
   "id": "0a61fce2",
   "metadata": {},
   "outputs": [],
   "source": [
    "# Get feature importances\n",
    "booster = model.get_booster()\n",
    "\n",
    "# Importance types: \"weight\", \"gain\", \"cover\", \"total_gain\", \"total_cover\"\n",
    "importance = booster.get_score(importance_type='gain')\n",
    "\n",
    "# Convert to DataFrame for readability\n",
    "importance_df = pd.DataFrame({\n",
    "    'Feature': list(importance.keys()),\n",
    "    'Importance': list(importance.values())\n",
    "}).sort_values(by='Importance', ascending=False)\n",
    "\n",
    "importance_df['importance_precentage']= importance_df['Importance'] / importance_df['Importance'].sum()"
   ]
  },
  {
   "cell_type": "code",
   "execution_count": 15,
   "id": "fe98e9a3",
   "metadata": {},
   "outputs": [],
   "source": [
    "importance_df['Importance'] = importance_df['Importance'] / importance_df['Importance'].sum()"
   ]
  },
  {
   "cell_type": "code",
   "execution_count": null,
   "id": "eefc715e",
   "metadata": {},
   "outputs": [],
   "source": [
    "importance_df.head(50)"
   ]
  },
  {
   "cell_type": "code",
   "execution_count": null,
   "id": "ba188773",
   "metadata": {},
   "outputs": [],
   "source": [
    "importance_df['Importance'].hist(bins=500)"
   ]
  },
  {
   "cell_type": "markdown",
   "id": "672b7f91",
   "metadata": {},
   "source": [
    "Choosing features by threshold"
   ]
  },
  {
   "cell_type": "code",
   "execution_count": null,
   "id": "cd7c69b6",
   "metadata": {},
   "outputs": [],
   "source": [
    "important_features = list(importance_df[importance_df['Importance'] > 0.006]['Feature'])\n",
    "important_features"
   ]
  },
  {
   "cell_type": "markdown",
   "id": "0e2c680f",
   "metadata": {},
   "source": [
    "Above here we can see that the most important feature is target_lag_1 and lags from expanding window aggregations as target_aggregated_max_premonthes_item_id_lag_2, target_aggregated_max_premonthes_item_id_shop_, target_aggregated_max_premonthes_item_id_shop_id. Not the less important: first_month_item_id it's a binary feature responsible for the fact item is selling first time in this month."
   ]
  },
  {
   "cell_type": "code",
   "execution_count": null,
   "id": "c21480e8",
   "metadata": {},
   "outputs": [],
   "source": [
    "import matplotlib.pyplot as plt\n",
    "\n",
    "fig, ax = plt.subplots(figsize=(10, 50))  \n",
    "xgb.plot_importance(model, importance_type='gain', ax=ax)\n",
    "plt.tight_layout()\n",
    "plt.savefig(\"feature_importance.png\")"
   ]
  },
  {
   "cell_type": "code",
   "execution_count": null,
   "id": "cd98134d",
   "metadata": {},
   "outputs": [],
   "source": [
    "y_pred"
   ]
  },
  {
   "cell_type": "markdown",
   "id": "1c92d073",
   "metadata": {},
   "source": [
    "### Making Predictions with holdout hyperopt estimate model params"
   ]
  },
  {
   "cell_type": "code",
   "execution_count": null,
   "id": "585d76b3",
   "metadata": {},
   "outputs": [],
   "source": [
    "dmatrix = xgb.DMatrix(data=test_x)\n",
    "y_pred = model.predict(test_x)"
   ]
  },
  {
   "cell_type": "code",
   "execution_count": null,
   "id": "19845857",
   "metadata": {},
   "outputs": [],
   "source": [
    "y_pred"
   ]
  },
  {
   "cell_type": "code",
   "execution_count": null,
   "id": "4cee2d02",
   "metadata": {},
   "outputs": [],
   "source": [
    "y_pred = np.clip(y_pred, 0, 20)\n",
    "df_y_pred = pd.DataFrame(y_pred)\n",
    "df_y_pred.columns = ['item_cnt_month']\n",
    "\n",
    "df_y_pred['ID'] = df_y_pred.index\n",
    "df_y_pred = df_y_pred[['ID','item_cnt_month']]\n",
    "df_y_pred[df_y_pred['item_cnt_month'] > 0]"
   ]
  },
  {
   "cell_type": "code",
   "execution_count": null,
   "id": "b45a35d0",
   "metadata": {},
   "outputs": [],
   "source": [
    "df_y_pred.to_csv(config.get('predict'), index= False)"
   ]
  },
  {
   "cell_type": "markdown",
   "id": "0a2b0701",
   "metadata": {},
   "source": [
    "![kaggle_base_predict_taget_lag_1](../img/hold_out_opt_xgb_prediction.png)"
   ]
  },
  {
   "cell_type": "markdown",
   "id": "5dc50b53",
   "metadata": {},
   "source": [
    "Private score: 0.91109 Public Score: 0.93163"
   ]
  },
  {
   "cell_type": "markdown",
   "id": "5cde9e3c",
   "metadata": {},
   "source": [
    "## Important_features_Optimisation_Predict_Expanding_Window (XGBOOST)"
   ]
  },
  {
   "cell_type": "code",
   "execution_count": 29,
   "id": "1c500866",
   "metadata": {},
   "outputs": [],
   "source": [
    "# X = full_df[full_df['date_block_num'] != 34].drop(columns='target', axis=1)\n",
    "# y = full_df[full_df['date_block_num'] != 34]['target']\n",
    "\n",
    "X = pd.read_parquet(config.get('train_x'))\n",
    "y = pd.read_parquet(config.get('train_y'))\n"
   ]
  },
  {
   "cell_type": "code",
   "execution_count": null,
   "id": "d1796485",
   "metadata": {},
   "outputs": [],
   "source": [
    "# important_features.extend(['shop_id','city','date_block_num'])\n",
    "# important_features\n"
   ]
  },
  {
   "cell_type": "code",
   "execution_count": 12,
   "id": "9adeeea7",
   "metadata": {},
   "outputs": [],
   "source": [
    "important_features = ['target_lag_1',\n",
    " 'target_aggregated_max_premonthes_item_id_shop_id_lag_1',\n",
    " 'target_aggregated_mean_premonthes_item_id_shop_id',\n",
    " 'target_aggregated_max_premonthes_item_id_shop_id',\n",
    " 'target_item_category_id_mean_lag_2',\n",
    " 'target_aggregated_max_premonthes_item_id_lag_2',\n",
    " 'target_predict_2_3',\n",
    " 'first_month_item_id',\n",
    " 'target_aggregated_max_premonthes_item_id_shop_id_lag_2',\n",
    " 'item_category_id',\n",
    " 'target_item_id_mean_lag_1',\n",
    " 'item_id_was_in_test',\n",
    " 'was_item_cnt_day_outlier_lag_1',\n",
    " 'target_general_item_category_name_total_predict_1_2',\n",
    " 'target_aggregated_max_premonthes_item_id',\n",
    " 'target_item_id_total_lag_1',\n",
    " 'target_general_item_category_name_total_predict_2_3',\n",
    " 'target_lag_2',\n",
    " 'month',\n",
    " 'target_aggregated_mean_premonthes_shop_id_lag_1',\n",
    " 'target_aggregated_mean_premonthes_shop_id',\n",
    " 'target_item_category_id_total_delta_1_2',\n",
    " 'target_item_id_total_predict_1_2',\n",
    " 'target_lag_3',\n",
    " 'target_aggregated_mean_premonthes_item_id_lag_3',\n",
    " 'target_item_category_id_total_predict_1_2',\n",
    " 'target_general_item_category_name_mean_lag_2',\n",
    " 'target_shop_id_total_delta_1_2',\n",
    " 'target_general_item_category_name_total_lag_1',\n",
    " 'target_item_category_id_total_lag_1',\n",
    " 'target_general_item_category_name_mean_lag_1',\n",
    " 'target_shop_id_total_predict_2_3',\n",
    " 'shop_id',\n",
    " 'city',\n",
    " 'date_block_num', 'item_id']"
   ]
  },
  {
   "cell_type": "code",
   "execution_count": 31,
   "id": "6599d161",
   "metadata": {},
   "outputs": [],
   "source": [
    "columns_to_drop = [x for x in X.columns if x not in important_features]\n",
    "columns_to_drop\n",
    "X = X.drop(columns=columns_to_drop, axis=1)\n"
   ]
  },
  {
   "cell_type": "code",
   "execution_count": 32,
   "id": "d0f9a918",
   "metadata": {},
   "outputs": [
    {
     "data": {
      "text/plain": [
       "Index(['date_block_num', 'shop_id', 'item_id', 'item_category_id', 'city',\n",
       "       'item_id_was_in_test', 'first_month_item_id',\n",
       "       'target_aggregated_mean_premonthes_item_id_shop_id',\n",
       "       'target_aggregated_max_premonthes_item_id_shop_id',\n",
       "       'target_aggregated_max_premonthes_item_id',\n",
       "       'target_aggregated_mean_premonthes_shop_id', 'month', 'target_lag_1',\n",
       "       'target_item_id_total_lag_1', 'target_item_id_mean_lag_1',\n",
       "       'target_item_category_id_total_lag_1',\n",
       "       'target_general_item_category_name_total_lag_1',\n",
       "       'target_general_item_category_name_mean_lag_1',\n",
       "       'target_aggregated_max_premonthes_item_id_shop_id_lag_1',\n",
       "       'target_aggregated_mean_premonthes_shop_id_lag_1',\n",
       "       'was_item_cnt_day_outlier_lag_1', 'target_lag_2',\n",
       "       'target_item_category_id_mean_lag_2',\n",
       "       'target_general_item_category_name_mean_lag_2',\n",
       "       'target_aggregated_max_premonthes_item_id_shop_id_lag_2',\n",
       "       'target_aggregated_max_premonthes_item_id_lag_2', 'target_lag_3',\n",
       "       'target_aggregated_mean_premonthes_item_id_lag_3', 'target_predict_2_3',\n",
       "       'target_item_id_total_predict_1_2', 'target_shop_id_total_delta_1_2',\n",
       "       'target_shop_id_total_predict_2_3',\n",
       "       'target_item_category_id_total_delta_1_2',\n",
       "       'target_item_category_id_total_predict_1_2',\n",
       "       'target_general_item_category_name_total_predict_1_2',\n",
       "       'target_general_item_category_name_total_predict_2_3'],\n",
       "      dtype='object')"
      ]
     },
     "execution_count": 32,
     "metadata": {},
     "output_type": "execute_result"
    }
   ],
   "source": [
    "X.columns"
   ]
  },
  {
   "cell_type": "code",
   "execution_count": 33,
   "id": "f414006a",
   "metadata": {},
   "outputs": [
    {
     "data": {
      "text/plain": [
       "True"
      ]
     },
     "execution_count": 33,
     "metadata": {},
     "output_type": "execute_result"
    }
   ],
   "source": [
    "X.shape[0] == len(y)"
   ]
  },
  {
   "cell_type": "code",
   "execution_count": null,
   "id": "77d10fd5",
   "metadata": {},
   "outputs": [],
   "source": [
    "\n",
    "def evaluate_expanding_window(X, y, month_column, start_val_month=25, end_val_month=33, model_params=None, trial = None):\n",
    "    \"\"\"\n",
    "    Evaluate a model using expanding window strategy on months [start_val_month, ..., end_val_month].\n",
    "\n",
    "    X, y: full dataset features and targets\n",
    "    month_column: Series with month number (1–33)\n",
    "    model_params: dict of parameters for the XGBRegressor\n",
    "\n",
    "    Returns: average RMSE across folds\n",
    "    \"\"\"\n",
    "    rmses = []\n",
    "\n",
    "    for idx, val_month in enumerate(range(start_val_month, end_val_month + 1)):\n",
    "        # Train on all months strictly before val_month\n",
    "        train_mask = month_column < val_month\n",
    "        val_mask = month_column == val_month\n",
    "\n",
    "        X_train, y_train = X.loc[train_mask], y.loc[train_mask]\n",
    "        X_val, y_val = X.loc[val_mask], y.loc[val_mask]\n",
    "\n",
    "        model = xgb.XGBRegressor(**model_params)\n",
    "        \n",
    "        model.fit(X = X_train,y = y_train)\n",
    "\n",
    "        preds = model.predict(X_val)\n",
    "        rmse = root_mean_squared_error(y_pred= preds, y_true = y_val)\n",
    "        rmses.append(rmse)\n",
    "\n",
    "        # # Logging current progress\n",
    "        # if trial is not None:\n",
    "        #     intermediate_value = np.mean(rmses)\n",
    "        #     trial.report(intermediate_value, step=idx)\n",
    "\n",
    "        # # Checking if we need to stop\n",
    "        #     if trial.should_prune():\n",
    "        #         raise optuna.TrialPruned()\n",
    "\n",
    "    return np.mean(rmses)\n",
    "\n",
    "\n",
    "def objective(trial):\n",
    "    params = {\n",
    "        \"verbosity\": 0,\n",
    "        \"objective\": \"reg:squarederror\",\n",
    "        \"eval_metric\": \"rmse\",\n",
    "        \"n_estimators\": trial.suggest_int(\"n_estimators\", 50, 300),\n",
    "        \"max_depth\": trial.suggest_int(\"max_depth\", 3, 12),\n",
    "        \"learning_rate\": trial.suggest_float(\"learning_rate\", 1e-3, 0.3, log=True),\n",
    "        \"subsample\": trial.suggest_float(\"subsample\", 0.5, 1.0),\n",
    "        \"colsample_bytree\": trial.suggest_float(\"colsample_bytree\", 0.5, 1.0),\n",
    "        \"gamma\": trial.suggest_float(\"gamma\", 0, 5),\n",
    "        \"lambda\": trial.suggest_float(\"lambda\", 1e-3, 10.0, log=True),\n",
    "        \"alpha\": trial.suggest_float(\"alpha\", 1e-3, 10.0, log=True),\n",
    "        #\"n_jobs\": 5\n",
    "        'tree_method': 'hist',\n",
    "        #\"max_bins\":64, \n",
    "        \"device\" : \"cuda\"\n",
    "    }\n",
    "\n",
    "    return evaluate_expanding_window(\n",
    "        X=X,\n",
    "        y=y,\n",
    "        month_column=X['date_block_num'],  # pd.Series with values 1 to 33\n",
    "        start_val_month=25,\n",
    "        end_val_month=33,\n",
    "        model_params=params,\n",
    "        trial=trial\n",
    "    )\n",
    "\n",
    "#pruner = optuna.pruners.MedianPruner(n_startup_trials=5, n_warmup_steps=4, interval_steps=1)\n",
    "study = optuna.create_study(direction=\"minimize\") #, pruner=pruner\n",
    "study.optimize(objective, n_trials=50) # timeout=900 15n minutes maximum for one cycle\n",
    "\n",
    "print(\"Best params:\", study.best_params)\n",
    "print(\"Best RMSE:\", study.best_value)"
   ]
  },
  {
   "cell_type": "code",
   "execution_count": 13,
   "id": "0099ee3f",
   "metadata": {},
   "outputs": [],
   "source": [
    "mlflow.set_tracking_uri(uri=\"http://127.0.0.1:5000\")"
   ]
  },
  {
   "cell_type": "code",
   "execution_count": null,
   "id": "21f92571",
   "metadata": {},
   "outputs": [],
   "source": [
    "mlflow.set_experiment(\"Hyperopt\")"
   ]
  },
  {
   "cell_type": "code",
   "execution_count": null,
   "id": "5b42882c",
   "metadata": {},
   "outputs": [],
   "source": [
    "with mlflow.start_run(run_name='Hyperopt_important_features'):\n",
    "    mlflow.log_params(study.best_params)\n",
    "    mlflow.log_metric('rmse', study.best_value)\n",
    "    mlflow.set_tag(\"comment\", \"This was a baseline run without model logging.\")\n"
   ]
  },
  {
   "cell_type": "code",
   "execution_count": null,
   "id": "f3a101a4",
   "metadata": {},
   "outputs": [],
   "source": [
    "print(mlflow.get_tracking_uri())"
   ]
  },
  {
   "cell_type": "markdown",
   "id": "6d12adc4",
   "metadata": {},
   "source": [
    "## Predicting for optimised cross val XGBOOST based on important features from hold out"
   ]
  },
  {
   "cell_type": "markdown",
   "id": "36323698",
   "metadata": {},
   "source": [
    "### SMAPE"
   ]
  },
  {
   "cell_type": "code",
   "execution_count": 15,
   "id": "6997a785",
   "metadata": {},
   "outputs": [
    {
     "data": {
      "text/plain": [
       "['target_lag_1',\n",
       " 'target_aggregated_max_premonthes_item_id_shop_id_lag_1',\n",
       " 'target_aggregated_mean_premonthes_item_id_shop_id',\n",
       " 'target_aggregated_max_premonthes_item_id_shop_id',\n",
       " 'target_item_category_id_mean_lag_2',\n",
       " 'target_aggregated_max_premonthes_item_id_lag_2',\n",
       " 'target_predict_2_3',\n",
       " 'first_month_item_id',\n",
       " 'target_aggregated_max_premonthes_item_id_shop_id_lag_2',\n",
       " 'item_category_id',\n",
       " 'target_item_id_mean_lag_1',\n",
       " 'item_id_was_in_test',\n",
       " 'was_item_cnt_day_outlier_lag_1',\n",
       " 'target_general_item_category_name_total_predict_1_2',\n",
       " 'target_aggregated_max_premonthes_item_id',\n",
       " 'target_item_id_total_lag_1',\n",
       " 'target_general_item_category_name_total_predict_2_3',\n",
       " 'target_lag_2',\n",
       " 'month',\n",
       " 'target_aggregated_mean_premonthes_shop_id_lag_1',\n",
       " 'target_aggregated_mean_premonthes_shop_id',\n",
       " 'target_item_category_id_total_delta_1_2',\n",
       " 'target_item_id_total_predict_1_2',\n",
       " 'target_lag_3',\n",
       " 'target_aggregated_mean_premonthes_item_id_lag_3',\n",
       " 'target_item_category_id_total_predict_1_2',\n",
       " 'target_general_item_category_name_mean_lag_2',\n",
       " 'target_shop_id_total_delta_1_2',\n",
       " 'target_general_item_category_name_total_lag_1',\n",
       " 'target_item_category_id_total_lag_1',\n",
       " 'target_general_item_category_name_mean_lag_1',\n",
       " 'target_shop_id_total_predict_2_3',\n",
       " 'shop_id',\n",
       " 'city',\n",
       " 'date_block_num',\n",
       " 'item_id',\n",
       " 'target']"
      ]
     },
     "execution_count": 15,
     "metadata": {},
     "output_type": "execute_result"
    }
   ],
   "source": [
    "important_features"
   ]
  },
  {
   "cell_type": "code",
   "execution_count": 14,
   "id": "0530f9c0",
   "metadata": {},
   "outputs": [],
   "source": [
    "important_features.extend(['target'])"
   ]
  },
  {
   "cell_type": "code",
   "execution_count": 16,
   "id": "79a9bc09",
   "metadata": {},
   "outputs": [],
   "source": [
    "full_df = full_df[important_features]"
   ]
  },
  {
   "cell_type": "code",
   "execution_count": 17,
   "id": "c6db69e6",
   "metadata": {},
   "outputs": [],
   "source": [
    "train_x, train_y, test_x, test_y = train_x_y_test_x_y(full_df=full_df)"
   ]
  },
  {
   "cell_type": "code",
   "execution_count": 27,
   "id": "6545d464",
   "metadata": {},
   "outputs": [
    {
     "name": "stdout",
     "output_type": "stream",
     "text": [
      "CPU times: total: 28min 4s\n",
      "Wall time: 2min 14s\n"
     ]
    },
    {
     "data": {
      "text/html": [
       "<style>#sk-container-id-2 {\n",
       "  /* Definition of color scheme common for light and dark mode */\n",
       "  --sklearn-color-text: #000;\n",
       "  --sklearn-color-text-muted: #666;\n",
       "  --sklearn-color-line: gray;\n",
       "  /* Definition of color scheme for unfitted estimators */\n",
       "  --sklearn-color-unfitted-level-0: #fff5e6;\n",
       "  --sklearn-color-unfitted-level-1: #f6e4d2;\n",
       "  --sklearn-color-unfitted-level-2: #ffe0b3;\n",
       "  --sklearn-color-unfitted-level-3: chocolate;\n",
       "  /* Definition of color scheme for fitted estimators */\n",
       "  --sklearn-color-fitted-level-0: #f0f8ff;\n",
       "  --sklearn-color-fitted-level-1: #d4ebff;\n",
       "  --sklearn-color-fitted-level-2: #b3dbfd;\n",
       "  --sklearn-color-fitted-level-3: cornflowerblue;\n",
       "\n",
       "  /* Specific color for light theme */\n",
       "  --sklearn-color-text-on-default-background: var(--sg-text-color, var(--theme-code-foreground, var(--jp-content-font-color1, black)));\n",
       "  --sklearn-color-background: var(--sg-background-color, var(--theme-background, var(--jp-layout-color0, white)));\n",
       "  --sklearn-color-border-box: var(--sg-text-color, var(--theme-code-foreground, var(--jp-content-font-color1, black)));\n",
       "  --sklearn-color-icon: #696969;\n",
       "\n",
       "  @media (prefers-color-scheme: dark) {\n",
       "    /* Redefinition of color scheme for dark theme */\n",
       "    --sklearn-color-text-on-default-background: var(--sg-text-color, var(--theme-code-foreground, var(--jp-content-font-color1, white)));\n",
       "    --sklearn-color-background: var(--sg-background-color, var(--theme-background, var(--jp-layout-color0, #111)));\n",
       "    --sklearn-color-border-box: var(--sg-text-color, var(--theme-code-foreground, var(--jp-content-font-color1, white)));\n",
       "    --sklearn-color-icon: #878787;\n",
       "  }\n",
       "}\n",
       "\n",
       "#sk-container-id-2 {\n",
       "  color: var(--sklearn-color-text);\n",
       "}\n",
       "\n",
       "#sk-container-id-2 pre {\n",
       "  padding: 0;\n",
       "}\n",
       "\n",
       "#sk-container-id-2 input.sk-hidden--visually {\n",
       "  border: 0;\n",
       "  clip: rect(1px 1px 1px 1px);\n",
       "  clip: rect(1px, 1px, 1px, 1px);\n",
       "  height: 1px;\n",
       "  margin: -1px;\n",
       "  overflow: hidden;\n",
       "  padding: 0;\n",
       "  position: absolute;\n",
       "  width: 1px;\n",
       "}\n",
       "\n",
       "#sk-container-id-2 div.sk-dashed-wrapped {\n",
       "  border: 1px dashed var(--sklearn-color-line);\n",
       "  margin: 0 0.4em 0.5em 0.4em;\n",
       "  box-sizing: border-box;\n",
       "  padding-bottom: 0.4em;\n",
       "  background-color: var(--sklearn-color-background);\n",
       "}\n",
       "\n",
       "#sk-container-id-2 div.sk-container {\n",
       "  /* jupyter's `normalize.less` sets `[hidden] { display: none; }`\n",
       "     but bootstrap.min.css set `[hidden] { display: none !important; }`\n",
       "     so we also need the `!important` here to be able to override the\n",
       "     default hidden behavior on the sphinx rendered scikit-learn.org.\n",
       "     See: https://github.com/scikit-learn/scikit-learn/issues/21755 */\n",
       "  display: inline-block !important;\n",
       "  position: relative;\n",
       "}\n",
       "\n",
       "#sk-container-id-2 div.sk-text-repr-fallback {\n",
       "  display: none;\n",
       "}\n",
       "\n",
       "div.sk-parallel-item,\n",
       "div.sk-serial,\n",
       "div.sk-item {\n",
       "  /* draw centered vertical line to link estimators */\n",
       "  background-image: linear-gradient(var(--sklearn-color-text-on-default-background), var(--sklearn-color-text-on-default-background));\n",
       "  background-size: 2px 100%;\n",
       "  background-repeat: no-repeat;\n",
       "  background-position: center center;\n",
       "}\n",
       "\n",
       "/* Parallel-specific style estimator block */\n",
       "\n",
       "#sk-container-id-2 div.sk-parallel-item::after {\n",
       "  content: \"\";\n",
       "  width: 100%;\n",
       "  border-bottom: 2px solid var(--sklearn-color-text-on-default-background);\n",
       "  flex-grow: 1;\n",
       "}\n",
       "\n",
       "#sk-container-id-2 div.sk-parallel {\n",
       "  display: flex;\n",
       "  align-items: stretch;\n",
       "  justify-content: center;\n",
       "  background-color: var(--sklearn-color-background);\n",
       "  position: relative;\n",
       "}\n",
       "\n",
       "#sk-container-id-2 div.sk-parallel-item {\n",
       "  display: flex;\n",
       "  flex-direction: column;\n",
       "}\n",
       "\n",
       "#sk-container-id-2 div.sk-parallel-item:first-child::after {\n",
       "  align-self: flex-end;\n",
       "  width: 50%;\n",
       "}\n",
       "\n",
       "#sk-container-id-2 div.sk-parallel-item:last-child::after {\n",
       "  align-self: flex-start;\n",
       "  width: 50%;\n",
       "}\n",
       "\n",
       "#sk-container-id-2 div.sk-parallel-item:only-child::after {\n",
       "  width: 0;\n",
       "}\n",
       "\n",
       "/* Serial-specific style estimator block */\n",
       "\n",
       "#sk-container-id-2 div.sk-serial {\n",
       "  display: flex;\n",
       "  flex-direction: column;\n",
       "  align-items: center;\n",
       "  background-color: var(--sklearn-color-background);\n",
       "  padding-right: 1em;\n",
       "  padding-left: 1em;\n",
       "}\n",
       "\n",
       "\n",
       "/* Toggleable style: style used for estimator/Pipeline/ColumnTransformer box that is\n",
       "clickable and can be expanded/collapsed.\n",
       "- Pipeline and ColumnTransformer use this feature and define the default style\n",
       "- Estimators will overwrite some part of the style using the `sk-estimator` class\n",
       "*/\n",
       "\n",
       "/* Pipeline and ColumnTransformer style (default) */\n",
       "\n",
       "#sk-container-id-2 div.sk-toggleable {\n",
       "  /* Default theme specific background. It is overwritten whether we have a\n",
       "  specific estimator or a Pipeline/ColumnTransformer */\n",
       "  background-color: var(--sklearn-color-background);\n",
       "}\n",
       "\n",
       "/* Toggleable label */\n",
       "#sk-container-id-2 label.sk-toggleable__label {\n",
       "  cursor: pointer;\n",
       "  display: flex;\n",
       "  width: 100%;\n",
       "  margin-bottom: 0;\n",
       "  padding: 0.5em;\n",
       "  box-sizing: border-box;\n",
       "  text-align: center;\n",
       "  align-items: start;\n",
       "  justify-content: space-between;\n",
       "  gap: 0.5em;\n",
       "}\n",
       "\n",
       "#sk-container-id-2 label.sk-toggleable__label .caption {\n",
       "  font-size: 0.6rem;\n",
       "  font-weight: lighter;\n",
       "  color: var(--sklearn-color-text-muted);\n",
       "}\n",
       "\n",
       "#sk-container-id-2 label.sk-toggleable__label-arrow:before {\n",
       "  /* Arrow on the left of the label */\n",
       "  content: \"▸\";\n",
       "  float: left;\n",
       "  margin-right: 0.25em;\n",
       "  color: var(--sklearn-color-icon);\n",
       "}\n",
       "\n",
       "#sk-container-id-2 label.sk-toggleable__label-arrow:hover:before {\n",
       "  color: var(--sklearn-color-text);\n",
       "}\n",
       "\n",
       "/* Toggleable content - dropdown */\n",
       "\n",
       "#sk-container-id-2 div.sk-toggleable__content {\n",
       "  display: none;\n",
       "  text-align: left;\n",
       "  /* unfitted */\n",
       "  background-color: var(--sklearn-color-unfitted-level-0);\n",
       "}\n",
       "\n",
       "#sk-container-id-2 div.sk-toggleable__content.fitted {\n",
       "  /* fitted */\n",
       "  background-color: var(--sklearn-color-fitted-level-0);\n",
       "}\n",
       "\n",
       "#sk-container-id-2 div.sk-toggleable__content pre {\n",
       "  margin: 0.2em;\n",
       "  border-radius: 0.25em;\n",
       "  color: var(--sklearn-color-text);\n",
       "  /* unfitted */\n",
       "  background-color: var(--sklearn-color-unfitted-level-0);\n",
       "}\n",
       "\n",
       "#sk-container-id-2 div.sk-toggleable__content.fitted pre {\n",
       "  /* unfitted */\n",
       "  background-color: var(--sklearn-color-fitted-level-0);\n",
       "}\n",
       "\n",
       "#sk-container-id-2 input.sk-toggleable__control:checked~div.sk-toggleable__content {\n",
       "  /* Expand drop-down */\n",
       "  display: block;\n",
       "  width: 100%;\n",
       "  overflow: visible;\n",
       "}\n",
       "\n",
       "#sk-container-id-2 input.sk-toggleable__control:checked~label.sk-toggleable__label-arrow:before {\n",
       "  content: \"▾\";\n",
       "}\n",
       "\n",
       "/* Pipeline/ColumnTransformer-specific style */\n",
       "\n",
       "#sk-container-id-2 div.sk-label input.sk-toggleable__control:checked~label.sk-toggleable__label {\n",
       "  color: var(--sklearn-color-text);\n",
       "  background-color: var(--sklearn-color-unfitted-level-2);\n",
       "}\n",
       "\n",
       "#sk-container-id-2 div.sk-label.fitted input.sk-toggleable__control:checked~label.sk-toggleable__label {\n",
       "  background-color: var(--sklearn-color-fitted-level-2);\n",
       "}\n",
       "\n",
       "/* Estimator-specific style */\n",
       "\n",
       "/* Colorize estimator box */\n",
       "#sk-container-id-2 div.sk-estimator input.sk-toggleable__control:checked~label.sk-toggleable__label {\n",
       "  /* unfitted */\n",
       "  background-color: var(--sklearn-color-unfitted-level-2);\n",
       "}\n",
       "\n",
       "#sk-container-id-2 div.sk-estimator.fitted input.sk-toggleable__control:checked~label.sk-toggleable__label {\n",
       "  /* fitted */\n",
       "  background-color: var(--sklearn-color-fitted-level-2);\n",
       "}\n",
       "\n",
       "#sk-container-id-2 div.sk-label label.sk-toggleable__label,\n",
       "#sk-container-id-2 div.sk-label label {\n",
       "  /* The background is the default theme color */\n",
       "  color: var(--sklearn-color-text-on-default-background);\n",
       "}\n",
       "\n",
       "/* On hover, darken the color of the background */\n",
       "#sk-container-id-2 div.sk-label:hover label.sk-toggleable__label {\n",
       "  color: var(--sklearn-color-text);\n",
       "  background-color: var(--sklearn-color-unfitted-level-2);\n",
       "}\n",
       "\n",
       "/* Label box, darken color on hover, fitted */\n",
       "#sk-container-id-2 div.sk-label.fitted:hover label.sk-toggleable__label.fitted {\n",
       "  color: var(--sklearn-color-text);\n",
       "  background-color: var(--sklearn-color-fitted-level-2);\n",
       "}\n",
       "\n",
       "/* Estimator label */\n",
       "\n",
       "#sk-container-id-2 div.sk-label label {\n",
       "  font-family: monospace;\n",
       "  font-weight: bold;\n",
       "  display: inline-block;\n",
       "  line-height: 1.2em;\n",
       "}\n",
       "\n",
       "#sk-container-id-2 div.sk-label-container {\n",
       "  text-align: center;\n",
       "}\n",
       "\n",
       "/* Estimator-specific */\n",
       "#sk-container-id-2 div.sk-estimator {\n",
       "  font-family: monospace;\n",
       "  border: 1px dotted var(--sklearn-color-border-box);\n",
       "  border-radius: 0.25em;\n",
       "  box-sizing: border-box;\n",
       "  margin-bottom: 0.5em;\n",
       "  /* unfitted */\n",
       "  background-color: var(--sklearn-color-unfitted-level-0);\n",
       "}\n",
       "\n",
       "#sk-container-id-2 div.sk-estimator.fitted {\n",
       "  /* fitted */\n",
       "  background-color: var(--sklearn-color-fitted-level-0);\n",
       "}\n",
       "\n",
       "/* on hover */\n",
       "#sk-container-id-2 div.sk-estimator:hover {\n",
       "  /* unfitted */\n",
       "  background-color: var(--sklearn-color-unfitted-level-2);\n",
       "}\n",
       "\n",
       "#sk-container-id-2 div.sk-estimator.fitted:hover {\n",
       "  /* fitted */\n",
       "  background-color: var(--sklearn-color-fitted-level-2);\n",
       "}\n",
       "\n",
       "/* Specification for estimator info (e.g. \"i\" and \"?\") */\n",
       "\n",
       "/* Common style for \"i\" and \"?\" */\n",
       "\n",
       ".sk-estimator-doc-link,\n",
       "a:link.sk-estimator-doc-link,\n",
       "a:visited.sk-estimator-doc-link {\n",
       "  float: right;\n",
       "  font-size: smaller;\n",
       "  line-height: 1em;\n",
       "  font-family: monospace;\n",
       "  background-color: var(--sklearn-color-background);\n",
       "  border-radius: 1em;\n",
       "  height: 1em;\n",
       "  width: 1em;\n",
       "  text-decoration: none !important;\n",
       "  margin-left: 0.5em;\n",
       "  text-align: center;\n",
       "  /* unfitted */\n",
       "  border: var(--sklearn-color-unfitted-level-1) 1pt solid;\n",
       "  color: var(--sklearn-color-unfitted-level-1);\n",
       "}\n",
       "\n",
       ".sk-estimator-doc-link.fitted,\n",
       "a:link.sk-estimator-doc-link.fitted,\n",
       "a:visited.sk-estimator-doc-link.fitted {\n",
       "  /* fitted */\n",
       "  border: var(--sklearn-color-fitted-level-1) 1pt solid;\n",
       "  color: var(--sklearn-color-fitted-level-1);\n",
       "}\n",
       "\n",
       "/* On hover */\n",
       "div.sk-estimator:hover .sk-estimator-doc-link:hover,\n",
       ".sk-estimator-doc-link:hover,\n",
       "div.sk-label-container:hover .sk-estimator-doc-link:hover,\n",
       ".sk-estimator-doc-link:hover {\n",
       "  /* unfitted */\n",
       "  background-color: var(--sklearn-color-unfitted-level-3);\n",
       "  color: var(--sklearn-color-background);\n",
       "  text-decoration: none;\n",
       "}\n",
       "\n",
       "div.sk-estimator.fitted:hover .sk-estimator-doc-link.fitted:hover,\n",
       ".sk-estimator-doc-link.fitted:hover,\n",
       "div.sk-label-container:hover .sk-estimator-doc-link.fitted:hover,\n",
       ".sk-estimator-doc-link.fitted:hover {\n",
       "  /* fitted */\n",
       "  background-color: var(--sklearn-color-fitted-level-3);\n",
       "  color: var(--sklearn-color-background);\n",
       "  text-decoration: none;\n",
       "}\n",
       "\n",
       "/* Span, style for the box shown on hovering the info icon */\n",
       ".sk-estimator-doc-link span {\n",
       "  display: none;\n",
       "  z-index: 9999;\n",
       "  position: relative;\n",
       "  font-weight: normal;\n",
       "  right: .2ex;\n",
       "  padding: .5ex;\n",
       "  margin: .5ex;\n",
       "  width: min-content;\n",
       "  min-width: 20ex;\n",
       "  max-width: 50ex;\n",
       "  color: var(--sklearn-color-text);\n",
       "  box-shadow: 2pt 2pt 4pt #999;\n",
       "  /* unfitted */\n",
       "  background: var(--sklearn-color-unfitted-level-0);\n",
       "  border: .5pt solid var(--sklearn-color-unfitted-level-3);\n",
       "}\n",
       "\n",
       ".sk-estimator-doc-link.fitted span {\n",
       "  /* fitted */\n",
       "  background: var(--sklearn-color-fitted-level-0);\n",
       "  border: var(--sklearn-color-fitted-level-3);\n",
       "}\n",
       "\n",
       ".sk-estimator-doc-link:hover span {\n",
       "  display: block;\n",
       "}\n",
       "\n",
       "/* \"?\"-specific style due to the `<a>` HTML tag */\n",
       "\n",
       "#sk-container-id-2 a.estimator_doc_link {\n",
       "  float: right;\n",
       "  font-size: 1rem;\n",
       "  line-height: 1em;\n",
       "  font-family: monospace;\n",
       "  background-color: var(--sklearn-color-background);\n",
       "  border-radius: 1rem;\n",
       "  height: 1rem;\n",
       "  width: 1rem;\n",
       "  text-decoration: none;\n",
       "  /* unfitted */\n",
       "  color: var(--sklearn-color-unfitted-level-1);\n",
       "  border: var(--sklearn-color-unfitted-level-1) 1pt solid;\n",
       "}\n",
       "\n",
       "#sk-container-id-2 a.estimator_doc_link.fitted {\n",
       "  /* fitted */\n",
       "  border: var(--sklearn-color-fitted-level-1) 1pt solid;\n",
       "  color: var(--sklearn-color-fitted-level-1);\n",
       "}\n",
       "\n",
       "/* On hover */\n",
       "#sk-container-id-2 a.estimator_doc_link:hover {\n",
       "  /* unfitted */\n",
       "  background-color: var(--sklearn-color-unfitted-level-3);\n",
       "  color: var(--sklearn-color-background);\n",
       "  text-decoration: none;\n",
       "}\n",
       "\n",
       "#sk-container-id-2 a.estimator_doc_link.fitted:hover {\n",
       "  /* fitted */\n",
       "  background-color: var(--sklearn-color-fitted-level-3);\n",
       "}\n",
       "\n",
       ".estimator-table summary {\n",
       "    padding: .5rem;\n",
       "    font-family: monospace;\n",
       "    cursor: pointer;\n",
       "}\n",
       "\n",
       ".estimator-table details[open] {\n",
       "    padding-left: 0.1rem;\n",
       "    padding-right: 0.1rem;\n",
       "    padding-bottom: 0.3rem;\n",
       "}\n",
       "\n",
       ".estimator-table .parameters-table {\n",
       "    margin-left: auto !important;\n",
       "    margin-right: auto !important;\n",
       "}\n",
       "\n",
       ".estimator-table .parameters-table tr:nth-child(odd) {\n",
       "    background-color: #fff;\n",
       "}\n",
       "\n",
       ".estimator-table .parameters-table tr:nth-child(even) {\n",
       "    background-color: #f6f6f6;\n",
       "}\n",
       "\n",
       ".estimator-table .parameters-table tr:hover {\n",
       "    background-color: #e0e0e0;\n",
       "}\n",
       "\n",
       ".estimator-table table td {\n",
       "    border: 1px solid rgba(106, 105, 104, 0.232);\n",
       "}\n",
       "\n",
       ".user-set td {\n",
       "    color:rgb(255, 94, 0);\n",
       "    text-align: left;\n",
       "}\n",
       "\n",
       ".user-set td.value pre {\n",
       "    color:rgb(255, 94, 0) !important;\n",
       "    background-color: transparent !important;\n",
       "}\n",
       "\n",
       ".default td {\n",
       "    color: black;\n",
       "    text-align: left;\n",
       "}\n",
       "\n",
       ".user-set td i,\n",
       ".default td i {\n",
       "    color: black;\n",
       "}\n",
       "\n",
       ".copy-paste-icon {\n",
       "    background-image: url(data:image/svg+xml;base64,PHN2ZyB4bWxucz0iaHR0cDovL3d3dy53My5vcmcvMjAwMC9zdmciIHZpZXdCb3g9IjAgMCA0NDggNTEyIj48IS0tIUZvbnQgQXdlc29tZSBGcmVlIDYuNy4yIGJ5IEBmb250YXdlc29tZSAtIGh0dHBzOi8vZm9udGF3ZXNvbWUuY29tIExpY2Vuc2UgLSBodHRwczovL2ZvbnRhd2Vzb21lLmNvbS9saWNlbnNlL2ZyZWUgQ29weXJpZ2h0IDIwMjUgRm9udGljb25zLCBJbmMuLS0+PHBhdGggZD0iTTIwOCAwTDMzMi4xIDBjMTIuNyAwIDI0LjkgNS4xIDMzLjkgMTQuMWw2Ny45IDY3LjljOSA5IDE0LjEgMjEuMiAxNC4xIDMzLjlMNDQ4IDMzNmMwIDI2LjUtMjEuNSA0OC00OCA0OGwtMTkyIDBjLTI2LjUgMC00OC0yMS41LTQ4LTQ4bDAtMjg4YzAtMjYuNSAyMS41LTQ4IDQ4LTQ4ek00OCAxMjhsODAgMCAwIDY0LTY0IDAgMCAyNTYgMTkyIDAgMC0zMiA2NCAwIDAgNDhjMCAyNi41LTIxLjUgNDgtNDggNDhMNDggNTEyYy0yNi41IDAtNDgtMjEuNS00OC00OEwwIDE3NmMwLTI2LjUgMjEuNS00OCA0OC00OHoiLz48L3N2Zz4=);\n",
       "    background-repeat: no-repeat;\n",
       "    background-size: 14px 14px;\n",
       "    background-position: 0;\n",
       "    display: inline-block;\n",
       "    width: 14px;\n",
       "    height: 14px;\n",
       "    cursor: pointer;\n",
       "}\n",
       "</style><body><div id=\"sk-container-id-2\" class=\"sk-top-container\"><div class=\"sk-text-repr-fallback\"><pre>XGBRegressor(alpha=0.26986966152618785, base_score=None, booster=None,\n",
       "             callbacks=None, colsample_bylevel=None, colsample_bynode=None,\n",
       "             colsample_bytree=0.562829755261984, device=None,\n",
       "             early_stopping_rounds=None, enable_categorical=False,\n",
       "             eval_metric=None, feature_types=None, feature_weights=None,\n",
       "             gamma=0.3153933459249693, grow_policy=None, importance_type=None,\n",
       "             interaction_constraints=None, lambda=0.1718951364361902,\n",
       "             learning_rate=0.018270981823248666, max_bin=None,\n",
       "             max_cat_threshold=None, max_cat_to_onehot=None,\n",
       "             max_delta_step=None, max_depth=9, max_leaves=None,\n",
       "             min_child_weight=None, missing=nan, monotone_constraints=None,\n",
       "             multi_strategy=None, n_estimators=192, ...)</pre><b>In a Jupyter environment, please rerun this cell to show the HTML representation or trust the notebook. <br />On GitHub, the HTML representation is unable to render, please try loading this page with nbviewer.org.</b></div><div class=\"sk-container\" hidden><div class=\"sk-item\"><div class=\"sk-estimator fitted sk-toggleable\"><input class=\"sk-toggleable__control sk-hidden--visually\" id=\"sk-estimator-id-2\" type=\"checkbox\" checked><label for=\"sk-estimator-id-2\" class=\"sk-toggleable__label fitted sk-toggleable__label-arrow\"><div><div>XGBRegressor</div></div><div><a class=\"sk-estimator-doc-link fitted\" rel=\"noreferrer\" target=\"_blank\" href=\"https://xgboost.readthedocs.io/en/release_3.0.0/python/python_api.html#xgboost.XGBRegressor\">?<span>Documentation for XGBRegressor</span></a><span class=\"sk-estimator-doc-link fitted\">i<span>Fitted</span></span></div></label><div class=\"sk-toggleable__content fitted\" data-param-prefix=\"\">\n",
       "        <div class=\"estimator-table\">\n",
       "            <details>\n",
       "                <summary>Parameters</summary>\n",
       "                <table class=\"parameters-table\">\n",
       "                  <tbody>\n",
       "                    \n",
       "        <tr class=\"default\">\n",
       "            <td><i class=\"copy-paste-icon\"\n",
       "                 onclick=\"copyToClipboard('objective',\n",
       "                          this.parentElement.nextElementSibling)\"\n",
       "            ></i></td>\n",
       "            <td class=\"param\">objective&nbsp;</td>\n",
       "            <td class=\"value\">&#x27;reg:squarederror&#x27;</td>\n",
       "        </tr>\n",
       "    \n",
       "\n",
       "        <tr class=\"user-set\">\n",
       "            <td><i class=\"copy-paste-icon\"\n",
       "                 onclick=\"copyToClipboard('base_score',\n",
       "                          this.parentElement.nextElementSibling)\"\n",
       "            ></i></td>\n",
       "            <td class=\"param\">base_score&nbsp;</td>\n",
       "            <td class=\"value\">None</td>\n",
       "        </tr>\n",
       "    \n",
       "\n",
       "        <tr class=\"user-set\">\n",
       "            <td><i class=\"copy-paste-icon\"\n",
       "                 onclick=\"copyToClipboard('booster',\n",
       "                          this.parentElement.nextElementSibling)\"\n",
       "            ></i></td>\n",
       "            <td class=\"param\">booster&nbsp;</td>\n",
       "            <td class=\"value\">None</td>\n",
       "        </tr>\n",
       "    \n",
       "\n",
       "        <tr class=\"user-set\">\n",
       "            <td><i class=\"copy-paste-icon\"\n",
       "                 onclick=\"copyToClipboard('callbacks',\n",
       "                          this.parentElement.nextElementSibling)\"\n",
       "            ></i></td>\n",
       "            <td class=\"param\">callbacks&nbsp;</td>\n",
       "            <td class=\"value\">None</td>\n",
       "        </tr>\n",
       "    \n",
       "\n",
       "        <tr class=\"user-set\">\n",
       "            <td><i class=\"copy-paste-icon\"\n",
       "                 onclick=\"copyToClipboard('colsample_bylevel',\n",
       "                          this.parentElement.nextElementSibling)\"\n",
       "            ></i></td>\n",
       "            <td class=\"param\">colsample_bylevel&nbsp;</td>\n",
       "            <td class=\"value\">None</td>\n",
       "        </tr>\n",
       "    \n",
       "\n",
       "        <tr class=\"user-set\">\n",
       "            <td><i class=\"copy-paste-icon\"\n",
       "                 onclick=\"copyToClipboard('colsample_bynode',\n",
       "                          this.parentElement.nextElementSibling)\"\n",
       "            ></i></td>\n",
       "            <td class=\"param\">colsample_bynode&nbsp;</td>\n",
       "            <td class=\"value\">None</td>\n",
       "        </tr>\n",
       "    \n",
       "\n",
       "        <tr class=\"user-set\">\n",
       "            <td><i class=\"copy-paste-icon\"\n",
       "                 onclick=\"copyToClipboard('colsample_bytree',\n",
       "                          this.parentElement.nextElementSibling)\"\n",
       "            ></i></td>\n",
       "            <td class=\"param\">colsample_bytree&nbsp;</td>\n",
       "            <td class=\"value\">0.562829755261984</td>\n",
       "        </tr>\n",
       "    \n",
       "\n",
       "        <tr class=\"user-set\">\n",
       "            <td><i class=\"copy-paste-icon\"\n",
       "                 onclick=\"copyToClipboard('device',\n",
       "                          this.parentElement.nextElementSibling)\"\n",
       "            ></i></td>\n",
       "            <td class=\"param\">device&nbsp;</td>\n",
       "            <td class=\"value\">None</td>\n",
       "        </tr>\n",
       "    \n",
       "\n",
       "        <tr class=\"user-set\">\n",
       "            <td><i class=\"copy-paste-icon\"\n",
       "                 onclick=\"copyToClipboard('early_stopping_rounds',\n",
       "                          this.parentElement.nextElementSibling)\"\n",
       "            ></i></td>\n",
       "            <td class=\"param\">early_stopping_rounds&nbsp;</td>\n",
       "            <td class=\"value\">None</td>\n",
       "        </tr>\n",
       "    \n",
       "\n",
       "        <tr class=\"user-set\">\n",
       "            <td><i class=\"copy-paste-icon\"\n",
       "                 onclick=\"copyToClipboard('enable_categorical',\n",
       "                          this.parentElement.nextElementSibling)\"\n",
       "            ></i></td>\n",
       "            <td class=\"param\">enable_categorical&nbsp;</td>\n",
       "            <td class=\"value\">False</td>\n",
       "        </tr>\n",
       "    \n",
       "\n",
       "        <tr class=\"user-set\">\n",
       "            <td><i class=\"copy-paste-icon\"\n",
       "                 onclick=\"copyToClipboard('eval_metric',\n",
       "                          this.parentElement.nextElementSibling)\"\n",
       "            ></i></td>\n",
       "            <td class=\"param\">eval_metric&nbsp;</td>\n",
       "            <td class=\"value\">None</td>\n",
       "        </tr>\n",
       "    \n",
       "\n",
       "        <tr class=\"user-set\">\n",
       "            <td><i class=\"copy-paste-icon\"\n",
       "                 onclick=\"copyToClipboard('feature_types',\n",
       "                          this.parentElement.nextElementSibling)\"\n",
       "            ></i></td>\n",
       "            <td class=\"param\">feature_types&nbsp;</td>\n",
       "            <td class=\"value\">None</td>\n",
       "        </tr>\n",
       "    \n",
       "\n",
       "        <tr class=\"user-set\">\n",
       "            <td><i class=\"copy-paste-icon\"\n",
       "                 onclick=\"copyToClipboard('feature_weights',\n",
       "                          this.parentElement.nextElementSibling)\"\n",
       "            ></i></td>\n",
       "            <td class=\"param\">feature_weights&nbsp;</td>\n",
       "            <td class=\"value\">None</td>\n",
       "        </tr>\n",
       "    \n",
       "\n",
       "        <tr class=\"user-set\">\n",
       "            <td><i class=\"copy-paste-icon\"\n",
       "                 onclick=\"copyToClipboard('gamma',\n",
       "                          this.parentElement.nextElementSibling)\"\n",
       "            ></i></td>\n",
       "            <td class=\"param\">gamma&nbsp;</td>\n",
       "            <td class=\"value\">0.3153933459249693</td>\n",
       "        </tr>\n",
       "    \n",
       "\n",
       "        <tr class=\"user-set\">\n",
       "            <td><i class=\"copy-paste-icon\"\n",
       "                 onclick=\"copyToClipboard('grow_policy',\n",
       "                          this.parentElement.nextElementSibling)\"\n",
       "            ></i></td>\n",
       "            <td class=\"param\">grow_policy&nbsp;</td>\n",
       "            <td class=\"value\">None</td>\n",
       "        </tr>\n",
       "    \n",
       "\n",
       "        <tr class=\"user-set\">\n",
       "            <td><i class=\"copy-paste-icon\"\n",
       "                 onclick=\"copyToClipboard('importance_type',\n",
       "                          this.parentElement.nextElementSibling)\"\n",
       "            ></i></td>\n",
       "            <td class=\"param\">importance_type&nbsp;</td>\n",
       "            <td class=\"value\">None</td>\n",
       "        </tr>\n",
       "    \n",
       "\n",
       "        <tr class=\"user-set\">\n",
       "            <td><i class=\"copy-paste-icon\"\n",
       "                 onclick=\"copyToClipboard('interaction_constraints',\n",
       "                          this.parentElement.nextElementSibling)\"\n",
       "            ></i></td>\n",
       "            <td class=\"param\">interaction_constraints&nbsp;</td>\n",
       "            <td class=\"value\">None</td>\n",
       "        </tr>\n",
       "    \n",
       "\n",
       "        <tr class=\"user-set\">\n",
       "            <td><i class=\"copy-paste-icon\"\n",
       "                 onclick=\"copyToClipboard('learning_rate',\n",
       "                          this.parentElement.nextElementSibling)\"\n",
       "            ></i></td>\n",
       "            <td class=\"param\">learning_rate&nbsp;</td>\n",
       "            <td class=\"value\">0.018270981823248666</td>\n",
       "        </tr>\n",
       "    \n",
       "\n",
       "        <tr class=\"user-set\">\n",
       "            <td><i class=\"copy-paste-icon\"\n",
       "                 onclick=\"copyToClipboard('max_bin',\n",
       "                          this.parentElement.nextElementSibling)\"\n",
       "            ></i></td>\n",
       "            <td class=\"param\">max_bin&nbsp;</td>\n",
       "            <td class=\"value\">None</td>\n",
       "        </tr>\n",
       "    \n",
       "\n",
       "        <tr class=\"user-set\">\n",
       "            <td><i class=\"copy-paste-icon\"\n",
       "                 onclick=\"copyToClipboard('max_cat_threshold',\n",
       "                          this.parentElement.nextElementSibling)\"\n",
       "            ></i></td>\n",
       "            <td class=\"param\">max_cat_threshold&nbsp;</td>\n",
       "            <td class=\"value\">None</td>\n",
       "        </tr>\n",
       "    \n",
       "\n",
       "        <tr class=\"user-set\">\n",
       "            <td><i class=\"copy-paste-icon\"\n",
       "                 onclick=\"copyToClipboard('max_cat_to_onehot',\n",
       "                          this.parentElement.nextElementSibling)\"\n",
       "            ></i></td>\n",
       "            <td class=\"param\">max_cat_to_onehot&nbsp;</td>\n",
       "            <td class=\"value\">None</td>\n",
       "        </tr>\n",
       "    \n",
       "\n",
       "        <tr class=\"user-set\">\n",
       "            <td><i class=\"copy-paste-icon\"\n",
       "                 onclick=\"copyToClipboard('max_delta_step',\n",
       "                          this.parentElement.nextElementSibling)\"\n",
       "            ></i></td>\n",
       "            <td class=\"param\">max_delta_step&nbsp;</td>\n",
       "            <td class=\"value\">None</td>\n",
       "        </tr>\n",
       "    \n",
       "\n",
       "        <tr class=\"user-set\">\n",
       "            <td><i class=\"copy-paste-icon\"\n",
       "                 onclick=\"copyToClipboard('max_depth',\n",
       "                          this.parentElement.nextElementSibling)\"\n",
       "            ></i></td>\n",
       "            <td class=\"param\">max_depth&nbsp;</td>\n",
       "            <td class=\"value\">9</td>\n",
       "        </tr>\n",
       "    \n",
       "\n",
       "        <tr class=\"user-set\">\n",
       "            <td><i class=\"copy-paste-icon\"\n",
       "                 onclick=\"copyToClipboard('max_leaves',\n",
       "                          this.parentElement.nextElementSibling)\"\n",
       "            ></i></td>\n",
       "            <td class=\"param\">max_leaves&nbsp;</td>\n",
       "            <td class=\"value\">None</td>\n",
       "        </tr>\n",
       "    \n",
       "\n",
       "        <tr class=\"user-set\">\n",
       "            <td><i class=\"copy-paste-icon\"\n",
       "                 onclick=\"copyToClipboard('min_child_weight',\n",
       "                          this.parentElement.nextElementSibling)\"\n",
       "            ></i></td>\n",
       "            <td class=\"param\">min_child_weight&nbsp;</td>\n",
       "            <td class=\"value\">None</td>\n",
       "        </tr>\n",
       "    \n",
       "\n",
       "        <tr class=\"user-set\">\n",
       "            <td><i class=\"copy-paste-icon\"\n",
       "                 onclick=\"copyToClipboard('missing',\n",
       "                          this.parentElement.nextElementSibling)\"\n",
       "            ></i></td>\n",
       "            <td class=\"param\">missing&nbsp;</td>\n",
       "            <td class=\"value\">nan</td>\n",
       "        </tr>\n",
       "    \n",
       "\n",
       "        <tr class=\"user-set\">\n",
       "            <td><i class=\"copy-paste-icon\"\n",
       "                 onclick=\"copyToClipboard('monotone_constraints',\n",
       "                          this.parentElement.nextElementSibling)\"\n",
       "            ></i></td>\n",
       "            <td class=\"param\">monotone_constraints&nbsp;</td>\n",
       "            <td class=\"value\">None</td>\n",
       "        </tr>\n",
       "    \n",
       "\n",
       "        <tr class=\"user-set\">\n",
       "            <td><i class=\"copy-paste-icon\"\n",
       "                 onclick=\"copyToClipboard('multi_strategy',\n",
       "                          this.parentElement.nextElementSibling)\"\n",
       "            ></i></td>\n",
       "            <td class=\"param\">multi_strategy&nbsp;</td>\n",
       "            <td class=\"value\">None</td>\n",
       "        </tr>\n",
       "    \n",
       "\n",
       "        <tr class=\"user-set\">\n",
       "            <td><i class=\"copy-paste-icon\"\n",
       "                 onclick=\"copyToClipboard('n_estimators',\n",
       "                          this.parentElement.nextElementSibling)\"\n",
       "            ></i></td>\n",
       "            <td class=\"param\">n_estimators&nbsp;</td>\n",
       "            <td class=\"value\">192</td>\n",
       "        </tr>\n",
       "    \n",
       "\n",
       "        <tr class=\"user-set\">\n",
       "            <td><i class=\"copy-paste-icon\"\n",
       "                 onclick=\"copyToClipboard('n_jobs',\n",
       "                          this.parentElement.nextElementSibling)\"\n",
       "            ></i></td>\n",
       "            <td class=\"param\">n_jobs&nbsp;</td>\n",
       "            <td class=\"value\">None</td>\n",
       "        </tr>\n",
       "    \n",
       "\n",
       "        <tr class=\"user-set\">\n",
       "            <td><i class=\"copy-paste-icon\"\n",
       "                 onclick=\"copyToClipboard('num_parallel_tree',\n",
       "                          this.parentElement.nextElementSibling)\"\n",
       "            ></i></td>\n",
       "            <td class=\"param\">num_parallel_tree&nbsp;</td>\n",
       "            <td class=\"value\">None</td>\n",
       "        </tr>\n",
       "    \n",
       "\n",
       "        <tr class=\"user-set\">\n",
       "            <td><i class=\"copy-paste-icon\"\n",
       "                 onclick=\"copyToClipboard('random_state',\n",
       "                          this.parentElement.nextElementSibling)\"\n",
       "            ></i></td>\n",
       "            <td class=\"param\">random_state&nbsp;</td>\n",
       "            <td class=\"value\">None</td>\n",
       "        </tr>\n",
       "    \n",
       "\n",
       "        <tr class=\"user-set\">\n",
       "            <td><i class=\"copy-paste-icon\"\n",
       "                 onclick=\"copyToClipboard('reg_alpha',\n",
       "                          this.parentElement.nextElementSibling)\"\n",
       "            ></i></td>\n",
       "            <td class=\"param\">reg_alpha&nbsp;</td>\n",
       "            <td class=\"value\">None</td>\n",
       "        </tr>\n",
       "    \n",
       "\n",
       "        <tr class=\"user-set\">\n",
       "            <td><i class=\"copy-paste-icon\"\n",
       "                 onclick=\"copyToClipboard('reg_lambda',\n",
       "                          this.parentElement.nextElementSibling)\"\n",
       "            ></i></td>\n",
       "            <td class=\"param\">reg_lambda&nbsp;</td>\n",
       "            <td class=\"value\">None</td>\n",
       "        </tr>\n",
       "    \n",
       "\n",
       "        <tr class=\"user-set\">\n",
       "            <td><i class=\"copy-paste-icon\"\n",
       "                 onclick=\"copyToClipboard('sampling_method',\n",
       "                          this.parentElement.nextElementSibling)\"\n",
       "            ></i></td>\n",
       "            <td class=\"param\">sampling_method&nbsp;</td>\n",
       "            <td class=\"value\">None</td>\n",
       "        </tr>\n",
       "    \n",
       "\n",
       "        <tr class=\"user-set\">\n",
       "            <td><i class=\"copy-paste-icon\"\n",
       "                 onclick=\"copyToClipboard('scale_pos_weight',\n",
       "                          this.parentElement.nextElementSibling)\"\n",
       "            ></i></td>\n",
       "            <td class=\"param\">scale_pos_weight&nbsp;</td>\n",
       "            <td class=\"value\">None</td>\n",
       "        </tr>\n",
       "    \n",
       "\n",
       "        <tr class=\"user-set\">\n",
       "            <td><i class=\"copy-paste-icon\"\n",
       "                 onclick=\"copyToClipboard('subsample',\n",
       "                          this.parentElement.nextElementSibling)\"\n",
       "            ></i></td>\n",
       "            <td class=\"param\">subsample&nbsp;</td>\n",
       "            <td class=\"value\">0.7539246424525929</td>\n",
       "        </tr>\n",
       "    \n",
       "\n",
       "        <tr class=\"user-set\">\n",
       "            <td><i class=\"copy-paste-icon\"\n",
       "                 onclick=\"copyToClipboard('tree_method',\n",
       "                          this.parentElement.nextElementSibling)\"\n",
       "            ></i></td>\n",
       "            <td class=\"param\">tree_method&nbsp;</td>\n",
       "            <td class=\"value\">None</td>\n",
       "        </tr>\n",
       "    \n",
       "\n",
       "        <tr class=\"user-set\">\n",
       "            <td><i class=\"copy-paste-icon\"\n",
       "                 onclick=\"copyToClipboard('validate_parameters',\n",
       "                          this.parentElement.nextElementSibling)\"\n",
       "            ></i></td>\n",
       "            <td class=\"param\">validate_parameters&nbsp;</td>\n",
       "            <td class=\"value\">None</td>\n",
       "        </tr>\n",
       "    \n",
       "\n",
       "        <tr class=\"user-set\">\n",
       "            <td><i class=\"copy-paste-icon\"\n",
       "                 onclick=\"copyToClipboard('verbosity',\n",
       "                          this.parentElement.nextElementSibling)\"\n",
       "            ></i></td>\n",
       "            <td class=\"param\">verbosity&nbsp;</td>\n",
       "            <td class=\"value\">None</td>\n",
       "        </tr>\n",
       "    \n",
       "\n",
       "        <tr class=\"user-set\">\n",
       "            <td><i class=\"copy-paste-icon\"\n",
       "                 onclick=\"copyToClipboard('lambda',\n",
       "                          this.parentElement.nextElementSibling)\"\n",
       "            ></i></td>\n",
       "            <td class=\"param\">lambda&nbsp;</td>\n",
       "            <td class=\"value\">0.1718951364361902</td>\n",
       "        </tr>\n",
       "    \n",
       "\n",
       "        <tr class=\"user-set\">\n",
       "            <td><i class=\"copy-paste-icon\"\n",
       "                 onclick=\"copyToClipboard('alpha',\n",
       "                          this.parentElement.nextElementSibling)\"\n",
       "            ></i></td>\n",
       "            <td class=\"param\">alpha&nbsp;</td>\n",
       "            <td class=\"value\">0.26986966152618785</td>\n",
       "        </tr>\n",
       "    \n",
       "                  </tbody>\n",
       "                </table>\n",
       "            </details>\n",
       "        </div>\n",
       "    </div></div></div></div></div><script>function copyToClipboard(text, element) {\n",
       "    // Get the parameter prefix from the closest toggleable content\n",
       "    const toggleableContent = element.closest('.sk-toggleable__content');\n",
       "    const paramPrefix = toggleableContent ? toggleableContent.dataset.paramPrefix : '';\n",
       "    const fullParamName = paramPrefix ? `${paramPrefix}${text}` : text;\n",
       "\n",
       "    const originalStyle = element.style;\n",
       "    const computedStyle = window.getComputedStyle(element);\n",
       "    const originalWidth = computedStyle.width;\n",
       "    const originalHTML = element.innerHTML.replace('Copied!', '');\n",
       "\n",
       "    navigator.clipboard.writeText(fullParamName)\n",
       "        .then(() => {\n",
       "            element.style.width = originalWidth;\n",
       "            element.style.color = 'green';\n",
       "            element.innerHTML = \"Copied!\";\n",
       "\n",
       "            setTimeout(() => {\n",
       "                element.innerHTML = originalHTML;\n",
       "                element.style = originalStyle;\n",
       "            }, 2000);\n",
       "        })\n",
       "        .catch(err => {\n",
       "            console.error('Failed to copy:', err);\n",
       "            element.style.color = 'red';\n",
       "            element.innerHTML = \"Failed!\";\n",
       "            setTimeout(() => {\n",
       "                element.innerHTML = originalHTML;\n",
       "                element.style = originalStyle;\n",
       "            }, 2000);\n",
       "        });\n",
       "    return false;\n",
       "}\n",
       "\n",
       "document.querySelectorAll('.fa-regular.fa-copy').forEach(function(element) {\n",
       "    const toggleableContent = element.closest('.sk-toggleable__content');\n",
       "    const paramPrefix = toggleableContent ? toggleableContent.dataset.paramPrefix : '';\n",
       "    const paramName = element.parentElement.nextElementSibling.textContent.trim();\n",
       "    const fullParamName = paramPrefix ? `${paramPrefix}${paramName}` : paramName;\n",
       "\n",
       "    element.setAttribute('title', fullParamName);\n",
       "});\n",
       "</script></body>"
      ],
      "text/plain": [
       "XGBRegressor(alpha=0.26986966152618785, base_score=None, booster=None,\n",
       "             callbacks=None, colsample_bylevel=None, colsample_bynode=None,\n",
       "             colsample_bytree=0.562829755261984, device=None,\n",
       "             early_stopping_rounds=None, enable_categorical=False,\n",
       "             eval_metric=None, feature_types=None, feature_weights=None,\n",
       "             gamma=0.3153933459249693, grow_policy=None, importance_type=None,\n",
       "             interaction_constraints=None, lambda=0.1718951364361902,\n",
       "             learning_rate=0.018270981823248666, max_bin=None,\n",
       "             max_cat_threshold=None, max_cat_to_onehot=None,\n",
       "             max_delta_step=None, max_depth=9, max_leaves=None,\n",
       "             min_child_weight=None, missing=nan, monotone_constraints=None,\n",
       "             multi_strategy=None, n_estimators=192, ...)"
      ]
     },
     "execution_count": 27,
     "metadata": {},
     "output_type": "execute_result"
    }
   ],
   "source": [
    "%%time\n",
    "\n",
    "params =  {'n_estimators': 192, 'max_depth': 9, \\\n",
    "'learning_rate': 0.018270981823248666, \\\n",
    "    'subsample': 0.7539246424525929, 'colsample_bytree': 0.562829755261984,\\\n",
    "         'gamma': 0.3153933459249693, 'lambda': 0.1718951364361902, \\\n",
    "            'alpha': 0.26986966152618785}\n",
    "\n",
    "model = xgb.XGBRegressor(**params)\n",
    "model.fit(train_x, train_y)\n"
   ]
  },
  {
   "cell_type": "code",
   "execution_count": 34,
   "id": "94e14d95",
   "metadata": {},
   "outputs": [],
   "source": [
    "df_y_pred = model_predict(model=model, inference_for = test_x)"
   ]
  },
  {
   "cell_type": "code",
   "execution_count": 31,
   "id": "8ec8ac26",
   "metadata": {},
   "outputs": [],
   "source": [
    "test_y = np.clip(test_y, 0, 20)"
   ]
  },
  {
   "cell_type": "code",
   "execution_count": 35,
   "id": "15e91a89",
   "metadata": {},
   "outputs": [
    {
     "data": {
      "text/plain": [
       "np.float32(187.02428)"
      ]
     },
     "execution_count": 35,
     "metadata": {},
     "output_type": "execute_result"
    }
   ],
   "source": [
    "smape(y_true = test_y,  y_pred = df_y_pred['item_cnt_month'] )"
   ]
  },
  {
   "cell_type": "markdown",
   "id": "79d28595",
   "metadata": {},
   "source": [
    "SMAPE : 187% (??)"
   ]
  },
  {
   "cell_type": "code",
   "execution_count": 38,
   "id": "3d965fca",
   "metadata": {},
   "outputs": [
    {
     "data": {
      "text/plain": [
       "0.33153387904167175"
      ]
     },
     "execution_count": 38,
     "metadata": {},
     "output_type": "execute_result"
    }
   ],
   "source": [
    "mean_absolute_error(y_true=test_y, y_pred= df_y_pred['item_cnt_month'] )"
   ]
  },
  {
   "cell_type": "code",
   "execution_count": 39,
   "id": "b7806da5",
   "metadata": {},
   "outputs": [
    {
     "data": {
      "text/plain": [
       "1.1035484075546265"
      ]
     },
     "execution_count": 39,
     "metadata": {},
     "output_type": "execute_result"
    }
   ],
   "source": [
    "root_mean_squared_error(y_true=test_y, y_pred= df_y_pred['item_cnt_month'] )"
   ]
  },
  {
   "cell_type": "markdown",
   "id": "6910cbb6",
   "metadata": {},
   "source": [
    "### Inference and other"
   ]
  },
  {
   "cell_type": "code",
   "execution_count": null,
   "id": "2b568eb3",
   "metadata": {},
   "outputs": [],
   "source": [
    "def model_predict(model, inference_for: pd.DataFrame=None):\n",
    "    inference_y = model.predict(inference_for)\n",
    "    inference_y = np.clip(inference_y, 0, 20)\n",
    "    df_y_pred = pd.DataFrame(inference_y)\n",
    "    df_y_pred.columns = ['item_cnt_month']\n",
    "    \n",
    "    df_y_pred['ID'] = df_y_pred.index\n",
    "    df_y_pred = df_y_pred[['ID','item_cnt_month']]\n",
    "    return df_y_pred\n"
   ]
  },
  {
   "cell_type": "code",
   "execution_count": null,
   "id": "d7a40a36",
   "metadata": {},
   "outputs": [],
   "source": [
    "%%time\n",
    "\n",
    "params =  {'n_estimators': 192, 'max_depth': 9, \\\n",
    "'learning_rate': 0.018270981823248666, \\\n",
    "    'subsample': 0.7539246424525929, 'colsample_bytree': 0.562829755261984,\\\n",
    "         'gamma': 0.3153933459249693, 'lambda': 0.1718951364361902, \\\n",
    "            'alpha': 0.26986966152618785}\n",
    "\n",
    "model = xgb.XGBRegressor(**params)\n",
    "model.fit(train_x, train_y)\n"
   ]
  },
  {
   "cell_type": "code",
   "execution_count": 35,
   "id": "6625747a",
   "metadata": {},
   "outputs": [],
   "source": [
    "inference_for = pd.read_parquet(config.get('inference'))\n",
    "inference_for = inference_for.drop(columns = columns_to_drop, axis=1)"
   ]
  },
  {
   "cell_type": "code",
   "execution_count": 37,
   "id": "6d8d4c45",
   "metadata": {},
   "outputs": [],
   "source": [
    "result = model_predict(model = model, inference_for=inference_for)"
   ]
  },
  {
   "cell_type": "code",
   "execution_count": null,
   "id": "3fd4b7ee",
   "metadata": {},
   "outputs": [],
   "source": [
    "result.to_csv(config.get('predict'),index=False)"
   ]
  },
  {
   "cell_type": "markdown",
   "id": "07b1a5dc",
   "metadata": {},
   "source": [
    "![important_features_optimised_cross_val](../img/important_features_optimised_cross_val.png)"
   ]
  },
  {
   "cell_type": "markdown",
   "id": "dbdda9bf",
   "metadata": {},
   "source": [
    "Private Score: 0.89922 Public Score: 0.90480"
   ]
  },
  {
   "cell_type": "markdown",
   "id": "91b14068",
   "metadata": {},
   "source": [
    "### Shap"
   ]
  },
  {
   "cell_type": "code",
   "execution_count": 52,
   "id": "f26f1924",
   "metadata": {},
   "outputs": [],
   "source": [
    "explainer = shap.TreeExplainer(model)"
   ]
  },
  {
   "cell_type": "code",
   "execution_count": 53,
   "id": "b5b440a0",
   "metadata": {},
   "outputs": [],
   "source": [
    "shap_values = explainer(X.sample(100, random_state=42))"
   ]
  },
  {
   "cell_type": "code",
   "execution_count": 54,
   "id": "8829c363",
   "metadata": {},
   "outputs": [
    {
     "data": {
      "image/png": "[encoded data removed]",
      "text/plain": [
       "<Figure size 800x550 with 2 Axes>"
      ]
     },
     "metadata": {},
     "output_type": "display_data"
    }
   ],
   "source": [
    "shap.plots.beeswarm(shap_values)"
   ]
  },
  {
   "cell_type": "code",
   "execution_count": 57,
   "id": "8ac6668e",
   "metadata": {},
   "outputs": [
    {
     "data": {
      "image/png": "[encoded data removed]",
      "text/plain": [
       "<Figure size 800x650 with 3 Axes>"
      ]
     },
     "metadata": {},
     "output_type": "display_data"
    }
   ],
   "source": [
    "shap.plots.waterfall(shap_values[7])"
   ]
  },
  {
   "cell_type": "markdown",
   "id": "a47b7382",
   "metadata": {},
   "source": [
    "# Add some usefull functions"
   ]
  },
  {
   "cell_type": "markdown",
   "id": "1ea5d5a6",
   "metadata": {},
   "source": [
    "### Data for train and simple evaluation"
   ]
  },
  {
   "cell_type": "code",
   "execution_count": 3,
   "id": "8e039c98",
   "metadata": {},
   "outputs": [],
   "source": [
    "# def train_x_y_val_x_y_test_x_y(full_df):\n",
    "#     train = full_df[full_df['date_block_num'] < 32]\n",
    "#     train_x = train.drop('target', axis=1)\n",
    "#     train_y = train['target']\n",
    "\n",
    "#     validation = full_df[full_df['date_block_num'] == 32]\n",
    "#     validation_x = validation.drop('target', axis=1)\n",
    "#     validation_y = validation['target']\n",
    "\n",
    "#     test = full_df[full_df['date_block_num'] == 33]\n",
    "#     test_x = test.drop('target', axis=1)\n",
    "#     test_y = test['target']\n",
    "#     return train_x, train_y, validation_x, validation_y, test_x, test_y\n"
   ]
  },
  {
   "cell_type": "code",
   "execution_count": 4,
   "id": "aeb9beba",
   "metadata": {},
   "outputs": [],
   "source": [
    "def train_x_y_test_x_y(full_df):\n",
    "    train = full_df[full_df['date_block_num'] < 33]\n",
    "    train_x = train.drop('target', axis=1)\n",
    "    train_y = train['target']\n",
    "\n",
    "    test = full_df[full_df['date_block_num'] == 33]\n",
    "    test_x = test.drop('target', axis=1)\n",
    "    test_y = test['target']\n",
    "    return train_x, train_y, test_x, test_y\n"
   ]
  },
  {
   "cell_type": "code",
   "execution_count": 5,
   "id": "052a5fb3",
   "metadata": {},
   "outputs": [],
   "source": [
    "def evaluate_hold_out(trained_model, test_x, test_y):\n",
    "    prediction = trained_model.predict(test_x)\n",
    "    return root_mean_squared_error(y_true=test_y, y_pred=prediction)"
   ]
  },
  {
   "cell_type": "markdown",
   "id": "2380a099",
   "metadata": {},
   "source": [
    "### Final inference"
   ]
  },
  {
   "cell_type": "markdown",
   "id": "5f21e168",
   "metadata": {},
   "source": [
    "Used for trained model to make predictions"
   ]
  },
  {
   "cell_type": "code",
   "execution_count": 34,
   "id": "4a32c184",
   "metadata": {},
   "outputs": [],
   "source": [
    "def x_y_inference_for(config: Config = Config() ):\n",
    "    X = pd.read_parquet(config.get('train_x'))\n",
    "    y = pd.read_parquet(config.get('train_y'))\n",
    "    inference_for = pd.read_parquet(config.get('inference'))\n",
    "    return X, y, inference_for # Get Training and inference data for submission "
   ]
  },
  {
   "cell_type": "markdown",
   "id": "dc018b61",
   "metadata": {},
   "source": [
    "You pass trained model and inference set and get prediction in sumbission format"
   ]
  },
  {
   "cell_type": "code",
   "execution_count": 35,
   "id": "dc7cb849",
   "metadata": {},
   "outputs": [],
   "source": [
    "def model_predict(trained_model, inference_for: pd.DataFrame=None, save: bool=False):\n",
    "    inference_y = trained_model.predict(inference_for)\n",
    "    inference_y = np.clip(inference_y, 0, 20)\n",
    "    df_y_pred = pd.DataFrame(inference_y)\n",
    "    df_y_pred.columns = ['item_cnt_month']\n",
    "    \n",
    "    df_y_pred['ID'] = df_y_pred.index\n",
    "    df_y_pred = df_y_pred[['ID','item_cnt_month']]\n",
    "    if save:\n",
    "        df_y_pred.to_csv(config.get('predict'), index=False)\n",
    "    return df_y_pred\n"
   ]
  },
  {
   "cell_type": "code",
   "execution_count": 36,
   "id": "689d44df",
   "metadata": {},
   "outputs": [],
   "source": [
    "def model_stabilitity_evaluation(X, y, month_column, start_val_month=25, end_val_month=33, model_with_params=xgb.XGBRegressor()):\n",
    "    \"\"\"\n",
    "    Evaluate a model using expanding window strategy on months [start_val_month, ..., end_val_month].\n",
    "\n",
    "    X, y: full dataset features and targets\n",
    "    month_column: Series with month number (1–33)\n",
    "    model_params: model with defined params\n",
    "\n",
    "    Returns: average RMSE across folds\n",
    "    \"\"\"\n",
    "    rmses = []\n",
    "\n",
    "    for val_month in range(start_val_month, end_val_month + 1):\n",
    "        # Train on all months strictly before val_month\n",
    "        train_mask = month_column < val_month\n",
    "        val_mask = month_column == val_month\n",
    "\n",
    "        X_train, y_train = X.loc[train_mask], y.loc[train_mask]\n",
    "        X_val, y_val = X.loc[val_mask], y.loc[val_mask]\n",
    "\n",
    "        \n",
    "        model_with_params.fit(X = X_train,y = y_train)\n",
    "\n",
    "        preds = model_with_params.predict(X_val)\n",
    "        rmse = root_mean_squared_error(y_pred= preds, y_true = y_val)\n",
    "        rmses.append(rmse)\n",
    "\n",
    "\n",
    "    return np.mean(rmses)"
   ]
  },
  {
   "cell_type": "markdown",
   "id": "aa1b76d0",
   "metadata": {},
   "source": [
    "### LinReg Preprocessing"
   ]
  },
  {
   "cell_type": "code",
   "execution_count": 37,
   "id": "c0209427",
   "metadata": {},
   "outputs": [],
   "source": [
    "def encoding_categories_target(df):\n",
    "    categorical = ['shop_id','item_id','item_category_id', 'general_item_category_name'\\\n",
    "                        ,'city']\n",
    "    for category in tqdm.tqdm(categorical):\n",
    "        category_encoded_name = category + '_te'\n",
    "        df[category_encoded_name] = 0\n",
    "\n",
    "        for month in sorted(df['date_block_num'].unique()):\n",
    "            past = df[df['date_block_num'] < month]\n",
    "            current = df['date_block_num'] == month\n",
    "            means = past.groupby(category)['target'].mean()\n",
    "            df.loc[current, category_encoded_name] = df.loc[current, category].map(means)\n",
    "\n",
    "    df = df.drop(columns=categorical, axis=1)\n",
    "    df = df.fillna(0)\n",
    "    return df   "
   ]
  },
  {
   "cell_type": "code",
   "execution_count": 24,
   "id": "16c66d6a",
   "metadata": {},
   "outputs": [],
   "source": [
    "def sin_cos_time_transformation(df):\n",
    "    df['month_sin'] = np.sin(2 * np.pi * df['month'] / 12)\n",
    "    df['month_cos'] = np.cos(2 * np.pi * df['month'] / 12)\n",
    "\n",
    "    year_start = df['year'].min()\n",
    "    year_end = df['year'].max()\n",
    "    df['year_norm'] = (df['year'] - year_start) / (year_end - year_start)\n",
    "    df = df.drop(columns = ['year','month'], axis = 1)\n",
    "    return df"
   ]
  },
  {
   "cell_type": "code",
   "execution_count": 25,
   "id": "ae679c38",
   "metadata": {},
   "outputs": [],
   "source": [
    "def split_full_df(full_df):\n",
    "    X = full_df[full_df['date_block_num'] < 34].drop(columns = 'target', axis = 1)\n",
    "    y = full_df[full_df['date_block_num'] < 34]['target']\n",
    "    inference_for = full_df[full_df['date_block_num'] == 34].drop(columns = 'target', axis = 1)\n",
    "    return X, y, inference_for"
   ]
  },
  {
   "cell_type": "code",
   "execution_count": 26,
   "id": "0969c507",
   "metadata": {},
   "outputs": [],
   "source": [
    "# important_features = ['target_lag_1',\n",
    "#  'target_aggregated_max_premonthes_item_id_shop_id_lag_1',\n",
    "#  'target_aggregated_mean_premonthes_item_id_shop_id',\n",
    "#  'target_aggregated_max_premonthes_item_id_shop_id',\n",
    "#  'target_item_category_id_mean_lag_2',\n",
    "#  'target_aggregated_max_premonthes_item_id_lag_2',\n",
    "#  'target_predict_2_3',\n",
    "#  'first_month_item_id',\n",
    "#  'target_aggregated_max_premonthes_item_id_shop_id_lag_2',\n",
    "#  'item_category_id',\n",
    "#  'target_item_id_mean_lag_1',\n",
    "#  'item_id_was_in_test',\n",
    "#  'was_item_cnt_day_outlier_lag_1',\n",
    "#  'target_general_item_category_name_total_predict_1_2',\n",
    "#  'target_aggregated_max_premonthes_item_id',\n",
    "#  'target_item_id_total_lag_1',\n",
    "#  'target_general_item_category_name_total_predict_2_3',\n",
    "#  'target_lag_2',\n",
    "#  'month_te',\n",
    "#  'target_aggregated_mean_premonthes_shop_id_lag_1',\n",
    "#  'target_aggregated_mean_premonthes_shop_id',\n",
    "#  'target_item_category_id_total_delta_1_2',\n",
    "#  'target_item_id_total_predict_1_2',\n",
    "#  'target_lag_3',\n",
    "#  'target_aggregated_mean_premonthes_item_id_lag_3',\n",
    "#  'target_item_category_id_total_predict_1_2',\n",
    "#  'target_general_item_category_name_mean_lag_2',\n",
    "#  'target_shop_id_total_delta_1_2',\n",
    "#  'target_general_item_category_name_total_lag_1',\n",
    "#  'target_item_category_id_total_lag_1',\n",
    "#  'target_general_item_category_name_mean_lag_1',\n",
    "#  'target_shop_id_total_predict_2_3',\n",
    "#  'shop_id_te',\n",
    "#  'city_te',\n",
    "#  'date_block_num']\n",
    "# columns_to_drop = [x for x in train_x.columns if x not in important_features]"
   ]
  },
  {
   "cell_type": "code",
   "execution_count": 27,
   "id": "ebbc0ef1",
   "metadata": {},
   "outputs": [],
   "source": [
    "# columns_to_scale = [x for x in train_x.columns if \\\n",
    "#                     (full_df[x].dtype == np.float32 or full_df[x].dtype == np.float64)\\\n",
    "#                           and \"outlier\" not in x]"
   ]
  },
  {
   "cell_type": "markdown",
   "id": "07d31c29",
   "metadata": {},
   "source": [
    "### XGBOOST preprocessing"
   ]
  },
  {
   "cell_type": "code",
   "execution_count": 61,
   "id": "b49e9e1e",
   "metadata": {},
   "outputs": [],
   "source": [
    "def full_df_drop_unimportant_features(full_df):\n",
    "    important_features = ['target_lag_1',\n",
    "        'target_aggregated_max_premonthes_item_id_shop_id_lag_1',\n",
    "        'target_aggregated_mean_premonthes_item_id_shop_id',\n",
    "        'target_aggregated_max_premonthes_item_id_shop_id',\n",
    "        'target_item_category_id_mean_lag_2',\n",
    "        'target_aggregated_max_premonthes_item_id_lag_2',\n",
    "        'target_predict_2_3',\n",
    "        'first_month_item_id',\n",
    "        'target_aggregated_max_premonthes_item_id_shop_id_lag_2',\n",
    "        'item_category_id',\n",
    "        'target_item_id_mean_lag_1',\n",
    "        'item_id_was_in_test',\n",
    "        'was_item_cnt_day_outlier_lag_1',\n",
    "        'target_general_item_category_name_total_predict_1_2',\n",
    "        'target_aggregated_max_premonthes_item_id',\n",
    "        'target_item_id_total_lag_1',\n",
    "        'target_general_item_category_name_total_predict_2_3',\n",
    "        'target_lag_2',\n",
    "        'month',\n",
    "        'target_aggregated_mean_premonthes_shop_id_lag_1',\n",
    "        'target_aggregated_mean_premonthes_shop_id',\n",
    "        'target_item_category_id_total_delta_1_2',\n",
    "        'target_item_id_total_predict_1_2',\n",
    "        'target_lag_3',\n",
    "        'target_aggregated_mean_premonthes_item_id_lag_3',\n",
    "        'target_item_category_id_total_predict_1_2',\n",
    "        'target_general_item_category_name_mean_lag_2',\n",
    "        'target_shop_id_total_delta_1_2',\n",
    "        'target_general_item_category_name_total_lag_1',\n",
    "        'target_item_category_id_total_lag_1',\n",
    "        'target_general_item_category_name_mean_lag_1',\n",
    "        'target_shop_id_total_predict_2_3',\n",
    "        'shop_id',\n",
    "        'city',\n",
    "        'date_block_num', 'target', 'item_id']\n",
    "    full_df = full_df[important_features]\n",
    "    return full_df\n"
   ]
  },
  {
   "cell_type": "code",
   "execution_count": 29,
   "id": "11836cde",
   "metadata": {},
   "outputs": [],
   "source": [
    "# important_features = ['target_lag_1',\n",
    "#  'target_aggregated_max_premonthes_item_id_shop_id_lag_1',\n",
    "#  'target_aggregated_mean_premonthes_item_id_shop_id',\n",
    "#  'target_aggregated_max_premonthes_item_id_shop_id',\n",
    "#  'target_item_category_id_mean_lag_2',\n",
    "#  'target_aggregated_max_premonthes_item_id_lag_2',\n",
    "#  'target_predict_2_3',\n",
    "#  'first_month_item_id',\n",
    "#  'target_aggregated_max_premonthes_item_id_shop_id_lag_2',\n",
    "#  'item_category_id',\n",
    "#  'target_item_id_mean_lag_1',\n",
    "#  'item_id_was_in_test',\n",
    "#  'was_item_cnt_day_outlier_lag_1',\n",
    "#  'target_general_item_category_name_total_predict_1_2',\n",
    "#  'target_aggregated_max_premonthes_item_id',\n",
    "#  'target_item_id_total_lag_1',\n",
    "#  'target_general_item_category_name_total_predict_2_3',\n",
    "#  'target_lag_2',\n",
    "#  'month',\n",
    "#  'target_aggregated_mean_premonthes_shop_id_lag_1',\n",
    "#  'target_aggregated_mean_premonthes_shop_id',\n",
    "#  'target_item_category_id_total_delta_1_2',\n",
    "#  'target_item_id_total_predict_1_2',\n",
    "#  'target_lag_3',\n",
    "#  'target_aggregated_mean_premonthes_item_id_lag_3',\n",
    "#  'target_item_category_id_total_predict_1_2',\n",
    "#  'target_general_item_category_name_mean_lag_2',\n",
    "#  'target_shop_id_total_delta_1_2',\n",
    "#  'target_general_item_category_name_total_lag_1',\n",
    "#  'target_item_category_id_total_lag_1',\n",
    "#  'target_general_item_category_name_mean_lag_1',\n",
    "#  'target_shop_id_total_predict_2_3',\n",
    "#  'shop_id',\n",
    "#  'city',\n",
    "#  'date_block_num']\n"
   ]
  },
  {
   "cell_type": "code",
   "execution_count": 30,
   "id": "f4082c33",
   "metadata": {},
   "outputs": [],
   "source": [
    "# columns_to_drop = [x for x in X.columns if x not in important_features]"
   ]
  },
  {
   "cell_type": "markdown",
   "id": "1eb4c917",
   "metadata": {},
   "source": [
    "# Linear Regression"
   ]
  },
  {
   "cell_type": "code",
   "execution_count": null,
   "id": "9792dd95",
   "metadata": {},
   "outputs": [],
   "source": [
    "full_df['target'].hist()"
   ]
  },
  {
   "cell_type": "markdown",
   "id": "08127ba0",
   "metadata": {},
   "source": [
    "We have Tweedie distribution for the target variable, with power ~ 1.6"
   ]
  },
  {
   "cell_type": "markdown",
   "id": "f138a76c",
   "metadata": {},
   "source": [
    "### Scaling initialisation"
   ]
  },
  {
   "cell_type": "code",
   "execution_count": null,
   "id": "9dbda0ae",
   "metadata": {},
   "outputs": [],
   "source": [
    "pd.DataFrame({\n",
    "    \"column\": full_df.columns,\n",
    "    \"dtype\": full_df.dtypes.values\n",
    "})[100:-1]# Checking all columns types"
   ]
  },
  {
   "cell_type": "code",
   "execution_count": null,
   "id": "d6dd60d7",
   "metadata": {},
   "outputs": [],
   "source": [
    "full_df = encoding_categories_target(full_df)\n"
   ]
  },
  {
   "cell_type": "code",
   "execution_count": 13,
   "id": "d6d62e0c",
   "metadata": {},
   "outputs": [],
   "source": [
    "full_df = sin_cos_time_transformation(full_df)"
   ]
  },
  {
   "cell_type": "code",
   "execution_count": null,
   "id": "1019fd16",
   "metadata": {},
   "outputs": [],
   "source": [
    "full_df.to_parquet(path= '../data/03_interim/lin_reg_full_df.parquet')"
   ]
  },
  {
   "cell_type": "code",
   "execution_count": null,
   "id": "2c16bf5e",
   "metadata": {},
   "outputs": [],
   "source": [
    "full_df = pd.read_parquet('./data/03_interim/lin_reg_full_df.parquet')"
   ]
  },
  {
   "cell_type": "code",
   "execution_count": 9,
   "id": "c0aea371",
   "metadata": {},
   "outputs": [],
   "source": [
    "train_x, train_y, test_x, test_y = train_x_y_test_x_y(full_df=full_df)"
   ]
  },
  {
   "cell_type": "code",
   "execution_count": 11,
   "id": "d3435d04",
   "metadata": {},
   "outputs": [],
   "source": [
    "del full_df"
   ]
  },
  {
   "cell_type": "code",
   "execution_count": 12,
   "id": "9dc96888",
   "metadata": {},
   "outputs": [],
   "source": [
    "scaler = StandardScaler()\n",
    "train_x[columns_to_scale] = scaler.fit_transform(train_x[columns_to_scale])\n",
    "test_x[columns_to_scale] = scaler.transform(test_x[columns_to_scale])"
   ]
  },
  {
   "cell_type": "code",
   "execution_count": null,
   "id": "d0372357",
   "metadata": {},
   "outputs": [],
   "source": [
    "train_x.to_parquet('./data/03_interim/lin_reg_train_x.parquet')\n",
    "test_x.to_parquet('./data/03_interim/lin_reg_test_x.parquet')"
   ]
  },
  {
   "cell_type": "code",
   "execution_count": null,
   "id": "2a0e108d",
   "metadata": {},
   "outputs": [],
   "source": [
    "train_x = pd.read_parquet('./data/03_interim/lin_reg_train_x.parquet')\n",
    "test_x = pd.read_parquet('./data/03_interim/lin_reg_test_x.parquet')"
   ]
  },
  {
   "cell_type": "code",
   "execution_count": null,
   "id": "3b806cd2",
   "metadata": {},
   "outputs": [],
   "source": [
    "train_x = train_x.drop(columns=columns_to_drop, axis=1)\n",
    "test_x = test_x.drop(columns=columns_to_drop, axis=1)"
   ]
  },
  {
   "cell_type": "markdown",
   "id": "b80da3f3",
   "metadata": {},
   "source": [
    "### Evaluation and building predictions"
   ]
  },
  {
   "cell_type": "code",
   "execution_count": null,
   "id": "f7ad58d9",
   "metadata": {},
   "outputs": [],
   "source": [
    "tweedie = TweedieRegressor(power=1.5, alpha=1.0)\n",
    "\n",
    "tweedie.fit(X = train_x, y = train_y)\n",
    "evaluate_hold_out(trained_model = tweedie, test_x = test_x, test_y = test_y)"
   ]
  },
  {
   "cell_type": "markdown",
   "id": "ff99ea51",
   "metadata": {},
   "source": [
    "### XGB on LinReg preprocessing - target encoding, standart scaler, cos sin time transformation"
   ]
  },
  {
   "cell_type": "code",
   "execution_count": null,
   "id": "a37cc55a",
   "metadata": {},
   "outputs": [],
   "source": [
    "%%time\n",
    "params =  {'n_estimators': 192, 'max_depth': 9, \\\n",
    "'learning_rate': 0.018270981823248666, \\\n",
    "    'subsample': 0.7539246424525929, 'colsample_bytree': 0.562829755261984,\\\n",
    "         'gamma': 0.3153933459249693, 'lambda': 0.1718951364361902, \\\n",
    "            'alpha': 0.26986966152618785}\n",
    "model = xgb.XGBRegressor(**params)\n",
    "model.fit(train_x, train_y)\n",
    "\n",
    "evaluate_hold_out(trained_model = model, test_x = test_x, test_y = test_y)"
   ]
  },
  {
   "cell_type": "code",
   "execution_count": null,
   "id": "dd716b72",
   "metadata": {},
   "outputs": [],
   "source": [
    "%%time\n",
    "model_stabilitity_evaluation(train_x, train_y, train_x['date_block_num'], start_val_month=23, end_val_month=31, model_with_params=xgb.XGBRegressor(**params))"
   ]
  },
  {
   "cell_type": "code",
   "execution_count": 24,
   "id": "bbde8c29",
   "metadata": {},
   "outputs": [],
   "source": [
    "full_df = pd.read_parquet('lin_reg_full_df.parquet')\n",
    "full_df = full_df.drop(columns = columns_to_drop, axis=1)\n",
    "X = full_df[full_df['date_block_num'] < 34].drop(columns = 'target', axis = 1)\n",
    "y = full_df[full_df['date_block_num'] < 34]['target']\n",
    "inference_for = full_df[full_df['date_block_num'] == 34].drop(columns = 'target', axis = 1)\n"
   ]
  },
  {
   "cell_type": "code",
   "execution_count": null,
   "id": "a01bf80b",
   "metadata": {},
   "outputs": [],
   "source": [
    "model_xgb_pred = xgb.XGBRegressor(**params)\n",
    "model_xgb_pred.fit(X, y)"
   ]
  },
  {
   "cell_type": "code",
   "execution_count": 27,
   "id": "3d405c6f",
   "metadata": {},
   "outputs": [],
   "source": [
    "predicted = model_predict(trained_model=model_xgb_pred, inference_for=inference_for)"
   ]
  },
  {
   "cell_type": "code",
   "execution_count": 29,
   "id": "551c4f6e",
   "metadata": {},
   "outputs": [],
   "source": [
    "predicted.to_csv(config.get('predict'), index=False)"
   ]
  },
  {
   "cell_type": "markdown",
   "id": "ce6e3652",
   "metadata": {},
   "source": [
    "![xgbost_important_features_lin_reg_params]('../img/xgbost_important_features_lin_reg_params.png')"
   ]
  },
  {
   "cell_type": "markdown",
   "id": "ff960b54",
   "metadata": {},
   "source": [
    "RMSE on board: Private : 0.96263, Public: 0.97100"
   ]
  },
  {
   "cell_type": "markdown",
   "id": "208be7e1",
   "metadata": {},
   "source": [
    "# Final \"tunning\""
   ]
  },
  {
   "cell_type": "code",
   "execution_count": 43,
   "id": "5f19427f",
   "metadata": {},
   "outputs": [],
   "source": [
    "full_df = full_df_drop_unimportant_features(full_df=full_df)"
   ]
  },
  {
   "cell_type": "code",
   "execution_count": 44,
   "id": "f10e0fc2",
   "metadata": {},
   "outputs": [],
   "source": [
    "X, y, inference_for = split_full_df(full_df= full_df)"
   ]
  },
  {
   "cell_type": "code",
   "execution_count": 47,
   "id": "02786e68",
   "metadata": {},
   "outputs": [],
   "source": [
    "categorical = ['shop_id','item_id','item_category_id'\\\n",
    "                        ,'city']"
   ]
  },
  {
   "cell_type": "code",
   "execution_count": 48,
   "id": "a167d888",
   "metadata": {},
   "outputs": [],
   "source": [
    "full_df[categorical] =  full_df[categorical].astype('category')"
   ]
  },
  {
   "cell_type": "code",
   "execution_count": 49,
   "id": "235850e1",
   "metadata": {},
   "outputs": [],
   "source": [
    "del full_df"
   ]
  },
  {
   "cell_type": "markdown",
   "id": "4d0bcea9",
   "metadata": {},
   "source": [
    "Okey, we can see it's better to use less features, use xgboost, and don't over transform data. Now we have only one option to go, is to try use tweedie in xgboost, or use model as catboost, or/and use stacking of them "
   ]
  },
  {
   "cell_type": "markdown",
   "id": "fe711a2f",
   "metadata": {},
   "source": [
    "### Tweedie as objective function"
   ]
  },
  {
   "cell_type": "code",
   "execution_count": null,
   "id": "d544daf5",
   "metadata": {},
   "outputs": [],
   "source": [
    "%%time\n",
    "params =  {'n_estimators': 192, 'max_depth': 9, \\\n",
    "'learning_rate': 0.018270981823248666, \\\n",
    "    'subsample': 0.7539246424525929, 'colsample_bytree': 0.562829755261984,\\\n",
    "         'gamma': 0.3153933459249693, 'lambda': 0.1718951364361902, \\\n",
    "            'alpha': 0.26986966152618785, 'objective': 'reg:tweedie', 'tweedie_variance_power': 1.5}\n",
    "model = xgb.XGBRegressor(**params)\n",
    "model.fit(X, y)\n",
    "model_predict(trained_model=model, inference_for = inference_for, save=True)"
   ]
  },
  {
   "cell_type": "markdown",
   "id": "89b6ebc4",
   "metadata": {},
   "source": [
    "Private_Score = 0.92917, Public_Score = 0.93147"
   ]
  },
  {
   "cell_type": "markdown",
   "id": "610d329b",
   "metadata": {},
   "source": [
    "### Try to mark categorical features"
   ]
  },
  {
   "cell_type": "code",
   "execution_count": null,
   "id": "c1ac8b9e",
   "metadata": {},
   "outputs": [],
   "source": [
    "params =  {'n_estimators': 192, 'max_depth': 9, \\\n",
    "'learning_rate': 0.018270981823248666, \\\n",
    "    'subsample': 0.7539246424525929, 'colsample_bytree': 0.562829755261984,\\\n",
    "         'gamma': 0.3153933459249693, 'lambda': 0.1718951364361902, \\\n",
    "            'alpha': 0.26986966152618785, 'eval_metric': 'rmse', \\\n",
    "                'device': 'cuda', 'tree_method':'hist', 'enable_categorical': True}\n",
    "\n",
    "model = xgb.XGBRegressor(**params)\n",
    "model.fit(X, y)\n",
    "model_predict(trained_model=model, inference_for = inference_for, save=True)"
   ]
  },
  {
   "cell_type": "markdown",
   "id": "224d7a3b",
   "metadata": {},
   "source": [
    "Private Score: 0.90231\n",
    "Public Score: 0.91108"
   ]
  },
  {
   "cell_type": "markdown",
   "id": "cd9eb6cb",
   "metadata": {},
   "source": [
    "### Catboost"
   ]
  },
  {
   "cell_type": "code",
   "execution_count": null,
   "id": "e0af380b",
   "metadata": {},
   "outputs": [],
   "source": [
    "cat = CatBoostRegressor()\n",
    "cat.fit(X,y)\n",
    "model_predict(trained_model=cat, inference_for = inference_for, save=True)"
   ]
  },
  {
   "cell_type": "markdown",
   "id": "84760716",
   "metadata": {},
   "source": [
    "Private score: 0.91352 ; Public Score: 0.92233"
   ]
  },
  {
   "cell_type": "markdown",
   "id": "420b41cc",
   "metadata": {},
   "source": [
    "# Stacking"
   ]
  },
  {
   "cell_type": "markdown",
   "id": "65a4ba90",
   "metadata": {},
   "source": [
    "### Init"
   ]
  },
  {
   "cell_type": "code",
   "execution_count": 38,
   "id": "bebabd18",
   "metadata": {},
   "outputs": [],
   "source": [
    "full_df = full_df_drop_unimportant_features(full_df=full_df)"
   ]
  },
  {
   "cell_type": "code",
   "execution_count": 39,
   "id": "719df551",
   "metadata": {},
   "outputs": [],
   "source": [
    "X, y, inference_for = split_full_df(full_df= full_df)"
   ]
  },
  {
   "cell_type": "code",
   "execution_count": 40,
   "id": "49d91c29",
   "metadata": {},
   "outputs": [],
   "source": [
    "del full_df"
   ]
  },
  {
   "cell_type": "markdown",
   "id": "0069a78a",
   "metadata": {},
   "source": [
    "### Stacking functions and predicting"
   ]
  },
  {
   "cell_type": "markdown",
   "id": "9dd2f353",
   "metadata": {},
   "source": [
    "Important to run preprocessing at the begging of this block "
   ]
  },
  {
   "cell_type": "code",
   "execution_count": 31,
   "id": "c0182cb4",
   "metadata": {},
   "outputs": [],
   "source": [
    "params = {'n_estimators': 192, 'max_depth': 9, \\\n",
    "'learning_rate': 0.018270981823248666, \\\n",
    "    'subsample': 0.7539246424525929, 'colsample_bytree': 0.562829755261984,\\\n",
    "         'gamma': 0.3153933459249693, 'lambda': 0.1718951364361902, \\\n",
    "            'alpha': 0.26986966152618785, 'eval_metric': 'rmse', \\\n",
    "                'tree_method':'hist', 'device': 'cuda', 'enable_categorical': True }"
   ]
  },
  {
   "cell_type": "code",
   "execution_count": 44,
   "id": "bce04365",
   "metadata": {},
   "outputs": [],
   "source": [
    "def stacking_with_expanding_model(X, y, predict_for, month_column, params, start_val_month=25, end_val_month=33):\n",
    "\n",
    "    meta_features = []\n",
    "    meta_X_predict_for_list= []\n",
    "\n",
    "    for val_month in tqdm.tqdm(range(start_val_month, end_val_month + 1)):\n",
    "\n",
    "\n",
    "        train_mask = month_column < val_month\n",
    "        val_mask = month_column == end_val_month\n",
    "\n",
    "        X_train = X.loc[train_mask]\n",
    "        y_train = y.loc[train_mask]\n",
    "        X_val = X.loc[val_mask]\n",
    "        \n",
    "\n",
    "        model = xgb.XGBRegressor(**params)\n",
    "        model.fit(X_train, y_train)\n",
    "        preds = model.predict(X_val)\n",
    "        meta_features.append(preds)\n",
    "\n",
    "        # Following block dedicated to meta-model inference-data, with adding last month to prediction and skipping first from trainining set\n",
    "        if val_month != 25:\n",
    "            preds = model.predict(predict_for)\n",
    "            meta_X_predict_for_list.append(preds)\n",
    "\n",
    "        if val_month == 33:\n",
    "            X_train = X\n",
    "            y_train = y\n",
    "            model = xgb.XGBRegressor(**params)\n",
    "            model.fit(X,y)\n",
    "            preds = model.predict(predict_for)\n",
    "            meta_X_predict_for_list.append(preds)\n",
    "\n",
    "        \n",
    "\n",
    "\n",
    "\n",
    "        \n",
    "\n",
    "    meta_X = np.vstack(meta_features).T\n",
    "    y_target = y.loc[month_column == end_val_month ].values\n",
    "\n",
    "    meta_model = xgb.XGBRegressor(**params)\n",
    "    meta_model.fit(meta_X, y_target)\n",
    "    \n",
    "    meta_X_predict_for = np.vstack(meta_X_predict_for_list).T\n",
    "    \n",
    "\n",
    "    return meta_model, meta_X, y_target, meta_X_predict_for\n",
    "# RETURNS TRAINED MODEL ⚠️"
   ]
  },
  {
   "cell_type": "code",
   "execution_count": 45,
   "id": "27de59e9",
   "metadata": {},
   "outputs": [
    {
     "name": "stderr",
     "output_type": "stream",
     "text": [
      "100%|██████████| 9/9 [06:23<00:00, 42.56s/it]\n"
     ]
    }
   ],
   "source": [
    "meta_model, meta_X, y_target, meta_X_predict_for = stacking_with_expanding_model(X = X,y = y, predict_for=inference_for, month_column = X['date_block_num'], params= params)"
   ]
  },
  {
   "cell_type": "code",
   "execution_count": 46,
   "id": "f6395a50",
   "metadata": {},
   "outputs": [
    {
     "data": {
      "text/plain": [
       "array([[0.3645564 , 0.35426536, 0.32538536, ..., 0.39712945, 0.3646357 ,\n",
       "        0.35786688],\n",
       "       [0.41198987, 0.37351948, 0.48966956, ..., 0.442549  , 0.48101288,\n",
       "        0.48011905],\n",
       "       [0.7775091 , 0.7532086 , 0.73485124, ..., 0.8547169 , 0.7725006 ,\n",
       "        0.771461  ],\n",
       "       ...,\n",
       "       [0.09225795, 0.09448409, 0.08626582, ..., 0.08772375, 0.08898667,\n",
       "        0.08985838],\n",
       "       [0.03329596, 0.03259605, 0.03162825, ..., 0.03278422, 0.0339461 ,\n",
       "        0.0344713 ],\n",
       "       [0.08886334, 0.08583498, 0.08065441, ..., 0.07929087, 0.07370692,\n",
       "        0.07853176]], shape=(214200, 9), dtype=float32)"
      ]
     },
     "execution_count": 46,
     "metadata": {},
     "output_type": "execute_result"
    }
   ],
   "source": [
    "meta_X_predict_for"
   ]
  },
  {
   "cell_type": "code",
   "execution_count": 47,
   "id": "d64c3423",
   "metadata": {},
   "outputs": [],
   "source": [
    "inferenced = model_predict(trained_model= meta_model, inference_for= meta_X_predict_for, save = True)"
   ]
  },
  {
   "cell_type": "markdown",
   "id": "356b79e8",
   "metadata": {},
   "source": [
    "Private score: 0.95928, Public score: 0.98085 - meta model is CatBoost"
   ]
  },
  {
   "cell_type": "markdown",
   "id": "4fa6baca",
   "metadata": {},
   "source": [
    "\n",
    "Score: 0.96975\n",
    "Private score: 0.94763   - meta model is XGBoost with best optimisation params on cross validation for important features"
   ]
  },
  {
   "cell_type": "markdown",
   "id": "79b95bab",
   "metadata": {},
   "source": [
    "Later i found a bottle neck, and decided to improve stacking_with_expanding_model() function. The problem was that for prediction data, our meta-model doesn't use any model which using 33rd month for training. At the notebook you see already improved version. That's a nice point to test how stacking might be improved with solving described case.  "
   ]
  },
  {
   "cell_type": "markdown",
   "id": "5c1f64ad",
   "metadata": {},
   "source": [
    "Score: 0.95646\n",
    "Private score: 0.94336\n",
    "\n"
   ]
  },
  {
   "cell_type": "markdown",
   "id": "a38709fc",
   "metadata": {},
   "source": [
    "We've got very little imporvement, waht was expectable. "
   ]
  }
 ],
 "metadata": {
  "kernelspec": {
   "display_name": "future_sales_predictions backup",
   "language": "python",
   "name": "python3"
  },
  "language_info": {
   "codemirror_mode": {
    "name": "ipython",
    "version": 3
   },
   "file_extension": ".py",
   "mimetype": "text/x-python",
   "name": "python",
   "nbconvert_exporter": "python",
   "pygments_lexer": "ipython3",
   "version": "3.13.0"
  }
 },
 "nbformat": 4,
 "nbformat_minor": 5
}
